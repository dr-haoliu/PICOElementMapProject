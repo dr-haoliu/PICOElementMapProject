{
 "cells": [
  {
   "cell_type": "code",
   "execution_count": 2,
   "metadata": {},
   "outputs": [],
   "source": [
    "import nltk\n",
    "import spacy\n",
    "import pandas as pd\n",
    "from tqdm import tqdm\n",
    "import os\n",
    "import nltk\n",
    "import numpy as np\n",
    "from pattern.text.en import singularize\n",
    "import nltk\n",
    "from nltk.corpus import stopwords\n",
    "stop_words = stopwords.words('english')\n",
    "import pickle\n",
    "from collections import Counter"
   ]
  },
  {
   "cell_type": "code",
   "execution_count": 1,
   "metadata": {},
   "outputs": [
    {
     "data": {
      "text/plain": [
       "3"
      ]
     },
     "execution_count": 1,
     "metadata": {},
     "output_type": "execute_result"
    }
   ],
   "source": [
    "1+2"
   ]
  },
  {
   "cell_type": "markdown",
   "metadata": {},
   "source": [
    "# Getting sentence classifications"
   ]
  },
  {
   "cell_type": "code",
   "execution_count": 3,
   "metadata": {},
   "outputs": [],
   "source": [
    "f = open(\"LitCovid_sent_classification_formatted.sents\", \"r\")\n",
    "sec_class_sents = f.read()\n",
    "f = open(\"LitCovid_sent_classification_formatted.txt\", \"r\")\n",
    "sec_class_txt = f.read()"
   ]
  },
  {
   "cell_type": "code",
   "execution_count": 4,
   "metadata": {},
   "outputs": [
    {
     "ename": "NameError",
     "evalue": "name 'sec_pmids' is not defined",
     "output_type": "error",
     "traceback": [
      "\u001b[1;31m---------------------------------------------------------------------------\u001b[0m",
      "\u001b[1;31mNameError\u001b[0m                                 Traceback (most recent call last)",
      "\u001b[1;32m<ipython-input-4-f2827fad216a>\u001b[0m in \u001b[0;36m<module>\u001b[1;34m()\u001b[0m\n\u001b[1;32m----> 1\u001b[1;33m \u001b[0msec_pmids\u001b[0m\u001b[1;33m[\u001b[0m\u001b[1;36m6469\u001b[0m\u001b[1;33m]\u001b[0m\u001b[1;33m\u001b[0m\u001b[0m\n\u001b[0m",
      "\u001b[1;31mNameError\u001b[0m: name 'sec_pmids' is not defined"
     ]
    }
   ],
   "source": [
    "sec_pmids[6469]"
   ]
  },
  {
   "cell_type": "code",
   "execution_count": 8,
   "metadata": {},
   "outputs": [],
   "source": [
    "sec_classes = sec_class_sents.split(\"\\n\\n\\n\")\n",
    "sec_pmids = [t.split(\" | \")[0] for t in sec_class_txt.split(\"\\n\")]\n",
    "sections = {}\n",
    "for i in range(len(sec_pmids)):\n",
    "    if sec_pmids[i] != \"\":\n",
    "        sections[sec_pmids[i]] = [(t.split(\"||\")[0], t.split(\"||\")[1]) for t in sec_classes[i].split(\"\\n\")]"
   ]
  },
  {
   "cell_type": "code",
   "execution_count": 9,
   "metadata": {},
   "outputs": [
    {
     "name": "stderr",
     "output_type": "stream",
     "text": [
      "100%|███████████████████████████████████████████████████████████████████████████| 6470/6470 [00:00<00:00, 12750.56it/s]\n"
     ]
    }
   ],
   "source": [
    "split_sections = {}\n",
    "for i in tqdm(range(len(sec_pmids))):\n",
    "    if sec_pmids[i] != \"\":\n",
    "        sect = sections[sec_pmids[i]]\n",
    "        temp_sect = []\n",
    "        for line in sect:\n",
    "            if len(line[1].split()) > 30:\n",
    "                text = line[1].split()\n",
    "#                 print(text)\n",
    "                split_sentences = [' '.join(text[i:i+30]) for i in range(0, len(text),30)]\n",
    "#                 print(split_sentences)\n",
    "                for sent in split_sentences:\n",
    "                    temp_sect.append((line[0], sent))\n",
    "            else:\n",
    "                temp_sect.append(line)\n",
    "        \n",
    "        split_sections[sec_pmids[i]] = temp_sect"
   ]
  },
  {
   "cell_type": "code",
   "execution_count": 135,
   "metadata": {
    "scrolled": true
   },
   "outputs": [
    {
     "data": {
      "text/plain": [
       "30"
      ]
     },
     "execution_count": 135,
     "metadata": {},
     "output_type": "execute_result"
    }
   ],
   "source": [
    "len(\"Gaining a deeper understanding of the interaction between Coronaviruses and the innate immune systems of the hosts may shed light on the development and persistence of inflammation in the lungs\".split())"
   ]
  },
  {
   "cell_type": "code",
   "execution_count": 136,
   "metadata": {},
   "outputs": [
    {
     "data": {
      "text/plain": [
       "[('TITLE', 'Coronavirus infections and immune responses'),\n",
       " ('BACKGROUND',\n",
       "  'Coronaviruses ( CoVs ) are by far the largest group of known positive - sense RNA viruses having an extensive range of natural hosts .'),\n",
       " ('BACKGROUND',\n",
       "  'In the past few decades , newly evolved Coronaviruses have posed a global threat to public health .'),\n",
       " ('BACKGROUND',\n",
       "  'The immune response is essential to control and eliminate CoV infections , however , maladjusted immune responses may result in immunopathology and impaired pulmonary gas exchange .'),\n",
       " ('BACKGROUND',\n",
       "  'Gaining a deeper understanding of the interaction between Coronaviruses and the innate immune systems of the hosts may shed light on the development and persistence of inflammation in the lungs and hopefully can reduce the risk of lung inflammation caused by CoVs .'),\n",
       " ('CONCLUSIONS',\n",
       "  'In this review , we provide an update on CoV infections and relevant diseases , particularly the host defense against CoV - induced inflammation of lung tissue , as well as the role of the innate immune system in the pathogenesis and clinical treatment .'),\n",
       " ('CONCLUSIONS',\n",
       "  'HIGHLIGHTS : This highlights the importance of immune responses under coronavirus infection and improve the understanding of the features of CoV - induced inflammatory response .')]"
      ]
     },
     "execution_count": 136,
     "metadata": {},
     "output_type": "execute_result"
    }
   ],
   "source": [
    "# sec_classes[i].split(\"\\n\")\n",
    "sections.get(\"31981224\")"
   ]
  },
  {
   "cell_type": "code",
   "execution_count": 23,
   "metadata": {
    "scrolled": true
   },
   "outputs": [],
   "source": [
    "custom_syns = [['COVID-19', \"SARS-CoV-2\", \"SARS-CoV-2 infection\", \"COVID-19 infection\", \n",
    "  \"coronavirus disease 2019 ( COVID-19 )\", 'Covid-19', 'laboratory-confirmed COVID-19', \n",
    "  \"coronavirus disease 2019\", \"COVID-19 disease\", \"coronavirus disease\", \"SARS-CoV\", \n",
    "  \"COVID-19 positive\", \"SARS-COV-2\", \"SARS-CoV-2 infections\",  \"Covid-19 infection\", \n",
    "  \"COVID-19 infected\", \"COVID-19-positive\", \"SARS-CoV-2 infected\", \"SARS-CoV-2-infected\",\n",
    "  \"2019-nCoV\", \"COVID-19 infections\", \"COVID 19\", \"COVID19\", \"Covid-19 infection\",\n",
    "  \"severe acute respiratory syndrome coronavirus 2 ( SARS-CoV-2 ) infection\", \n",
    "  'coronavirus disease ( COVID-19 )', \"CoV infections\", \"coronavirus\", \"2019-new coronavirus\",\n",
    "  \"SARS-CoV-2 virus\", \"coronavirus infections\"],\n",
    " [\"severe COVID-19\", \"severe and critical COVID-19\", \"severe COVID-19 infection\", \n",
    "  'severe coronavirus disease 2019 ( COVID-19 )',\n",
    "  'severe coronavirus disease 2019 ( COVID-19 )', \n",
    "  'severe acute respiratory syndrome ( SARS )', 'severe and critical COVID-19',\n",
    "  'severe acute respiratory syndrome coronavirus 2',\n",
    "  'critically ill COVID-19', \"severe COVID-19 disease\"],\n",
    " [\"severe COVID-19 pneumonia\", \"severe pneumonia\", \"COVID-19 pneumonia\", \"SARS-CoV-2 pneumonia\",\n",
    "  'novel coronavirus pneumonia', \"2019-nCoV pneumonia\"],\n",
    " [\"male\", \"men\", \"males\", \"male sex\"],\n",
    " [\"infection\", \"infected\"],\n",
    " [\"female\", \"women\", \"females\", \"female sex\"],\n",
    " [\"severe\", \"severe disease\", \"severe cases\", \"severely ill\", \"severe illness\"],\n",
    " [\"critical\", \"critically ill\",  \"critical illness\"],\n",
    " [\"comorbidity\", \"comorbidities\"],\n",
    " [\"ICU\", \"intensive care unit ( ICU )\", \"intensive care\"],\n",
    " [\"diabetes\", \"diabetes mellitus\", \"diabetic\"],\n",
    " [\"elderly\", \"older age\", \"older adults\", \"older\"],\n",
    " [\"hydroxychloroquine\", \"chloroquine\"],\n",
    " [\"dead\", \"deceased\", \"mortality\", \"died\", \"death\"]]\n",
    "\n",
    "lower_syns = []\n",
    "for syn in custom_syns:\n",
    "    lower_syns.append([s.lower() for s in syn])\n",
    "\n",
    "    \n",
    "def get_syn(ent):\n",
    "    covid_syns = [\"covid\", \"sars-cov\", \"corona\", \"ncov\", \"cov infections\"]\n",
    "    severe_syns = [\"severe\"]\n",
    "    if any(word in ent.lower() for word in covid_syns) and any(word in ent.lower() for word in severe_syns):\n",
    "        return \"severe covid-19\"\n",
    "    elif any(word in ent.lower() for word in covid_syns) and \"pneumonia\" in ent.lower():\n",
    "        return \"COVID-19 pneumonia\"\n",
    "#     elif any(word in ent.lower() for word in severe_syns):\n",
    "#         return \"severe\"\n",
    "    else:\n",
    "        for l in lower_syns:\n",
    "            if ent.lower() in l:\n",
    "\n",
    "                return l[0]\n",
    "        \n",
    "    return ent"
   ]
  },
  {
   "cell_type": "markdown",
   "metadata": {},
   "source": [
    "# Get data"
   ]
  },
  {
   "cell_type": "code",
   "execution_count": 24,
   "metadata": {
    "scrolled": true
   },
   "outputs": [
    {
     "name": "stderr",
     "output_type": "stream",
     "text": [
      "dirs:   2%|█▏                                                                      | 105/6459 [00:00<00:38, 164.07it/s]"
     ]
    },
    {
     "name": "stdout",
     "output_type": "stream",
     "text": [
      "critical\n",
      "critical\n",
      "critical\n",
      "critical\n",
      "critical\n",
      "critical\n"
     ]
    },
    {
     "name": "stderr",
     "output_type": "stream",
     "text": [
      "dirs:   2%|█▋                                                                      | 150/6459 [00:00<00:47, 133.28it/s]"
     ]
    },
    {
     "name": "stdout",
     "output_type": "stream",
     "text": [
      "critical\n",
      "critical\n",
      "critical\n",
      "critical\n"
     ]
    },
    {
     "name": "stderr",
     "output_type": "stream",
     "text": [
      "dirs:   4%|███                                                                     | 277/6459 [00:01<00:41, 150.19it/s]"
     ]
    },
    {
     "name": "stdout",
     "output_type": "stream",
     "text": [
      "critical\n",
      "critical\n"
     ]
    },
    {
     "name": "stderr",
     "output_type": "stream",
     "text": [
      "dirs:   6%|████▏                                                                   | 378/6459 [00:02<00:37, 162.05it/s]"
     ]
    },
    {
     "name": "stdout",
     "output_type": "stream",
     "text": [
      "critical\n",
      "critical\n"
     ]
    },
    {
     "name": "stderr",
     "output_type": "stream",
     "text": [
      "dirs:   8%|█████▉                                                                  | 528/6459 [00:03<00:36, 160.69it/s]"
     ]
    },
    {
     "name": "stdout",
     "output_type": "stream",
     "text": [
      "critical\n",
      "critical\n"
     ]
    },
    {
     "name": "stderr",
     "output_type": "stream",
     "text": [
      "dirs:  11%|███████▋                                                                | 685/6459 [00:04<00:34, 168.46it/s]"
     ]
    },
    {
     "name": "stdout",
     "output_type": "stream",
     "text": [
      "critical\n",
      "critical\n"
     ]
    },
    {
     "name": "stderr",
     "output_type": "stream",
     "text": [
      "dirs:  12%|████████▊                                                               | 787/6459 [00:05<00:41, 136.70it/s]"
     ]
    },
    {
     "name": "stdout",
     "output_type": "stream",
     "text": [
      "critical\n",
      "critical\n"
     ]
    },
    {
     "name": "stderr",
     "output_type": "stream",
     "text": [
      "dirs:  13%|█████████▌                                                              | 854/6459 [00:05<00:39, 142.95it/s]"
     ]
    },
    {
     "name": "stdout",
     "output_type": "stream",
     "text": [
      "critical\n",
      "critical\n"
     ]
    },
    {
     "name": "stderr",
     "output_type": "stream",
     "text": [
      "dirs:  19%|█████████████▏                                                         | 1204/6459 [00:07<00:34, 150.43it/s]"
     ]
    },
    {
     "name": "stdout",
     "output_type": "stream",
     "text": [
      "critical\n",
      "critical\n",
      "critical\n",
      "critical\n"
     ]
    },
    {
     "name": "stderr",
     "output_type": "stream",
     "text": [
      "dirs:  23%|████████████████                                                       | 1461/6459 [00:09<00:30, 162.22it/s]"
     ]
    },
    {
     "name": "stdout",
     "output_type": "stream",
     "text": [
      "critical\n",
      "critical\n",
      "critical\n",
      "critical\n"
     ]
    },
    {
     "name": "stderr",
     "output_type": "stream",
     "text": [
      "dirs:  25%|█████████████████▌                                                     | 1596/6459 [00:10<00:29, 163.08it/s]"
     ]
    },
    {
     "name": "stdout",
     "output_type": "stream",
     "text": [
      "critical\n",
      "critical\n"
     ]
    },
    {
     "name": "stderr",
     "output_type": "stream",
     "text": [
      "dirs:  30%|█████████████████████                                                  | 1911/6459 [00:12<00:31, 144.43it/s]"
     ]
    },
    {
     "name": "stdout",
     "output_type": "stream",
     "text": [
      "critical\n",
      "critical\n",
      "critical\n",
      "critical\n"
     ]
    },
    {
     "name": "stderr",
     "output_type": "stream",
     "text": [
      "dirs:  37%|██████████████████████████▎                                            | 2393/6459 [00:15<00:31, 128.01it/s]"
     ]
    },
    {
     "name": "stdout",
     "output_type": "stream",
     "text": [
      "critical\n",
      "critical\n",
      "critical\n",
      "critical\n"
     ]
    },
    {
     "name": "stderr",
     "output_type": "stream",
     "text": [
      "dirs:  38%|██████████████████████████▊                                            | 2436/6459 [00:16<00:31, 128.98it/s]"
     ]
    },
    {
     "name": "stdout",
     "output_type": "stream",
     "text": [
      "critical\n",
      "critical\n"
     ]
    },
    {
     "name": "stderr",
     "output_type": "stream",
     "text": [
      "dirs:  43%|██████████████████████████████▊                                        | 2798/6459 [00:18<00:26, 135.80it/s]"
     ]
    },
    {
     "name": "stdout",
     "output_type": "stream",
     "text": [
      "critical\n",
      "critical\n",
      "critical\n",
      "critical\n",
      "critical\n",
      "critical\n",
      "critical\n",
      "critical\n",
      "critical\n",
      "critical\n",
      "critical\n",
      "critical\n"
     ]
    },
    {
     "name": "stderr",
     "output_type": "stream",
     "text": [
      "dirs:  45%|███████████████████████████████▋                                       | 2884/6459 [00:19<00:26, 135.89it/s]"
     ]
    },
    {
     "name": "stdout",
     "output_type": "stream",
     "text": [
      "critical\n",
      "critical\n"
     ]
    },
    {
     "name": "stderr",
     "output_type": "stream",
     "text": [
      "dirs:  46%|████████████████████████████████▍                                      | 2946/6459 [00:19<00:25, 139.14it/s]"
     ]
    },
    {
     "name": "stdout",
     "output_type": "stream",
     "text": [
      "critical\n",
      "critical\n"
     ]
    },
    {
     "name": "stderr",
     "output_type": "stream",
     "text": [
      "dirs:  47%|█████████████████████████████████▍                                     | 3041/6459 [00:20<00:22, 150.23it/s]"
     ]
    },
    {
     "name": "stdout",
     "output_type": "stream",
     "text": [
      "critical\n",
      "critical\n"
     ]
    },
    {
     "name": "stderr",
     "output_type": "stream",
     "text": [
      "dirs:  51%|████████████████████████████████████                                   | 3279/6459 [00:22<00:26, 121.69it/s]"
     ]
    },
    {
     "name": "stdout",
     "output_type": "stream",
     "text": [
      "critical\n",
      "critical\n"
     ]
    },
    {
     "name": "stderr",
     "output_type": "stream",
     "text": [
      "dirs:  52%|█████████████████████████████████████▏                                 | 3378/6459 [00:23<00:24, 128.23it/s]"
     ]
    },
    {
     "name": "stdout",
     "output_type": "stream",
     "text": [
      "critical\n",
      "critical\n",
      "critical\n",
      "critical\n"
     ]
    },
    {
     "name": "stderr",
     "output_type": "stream",
     "text": [
      "dirs:  55%|███████████████████████████████████████▌                                | 3551/6459 [00:25<00:36, 80.02it/s]"
     ]
    },
    {
     "name": "stdout",
     "output_type": "stream",
     "text": [
      "critical\n",
      "critical\n"
     ]
    },
    {
     "name": "stderr",
     "output_type": "stream",
     "text": [
      "dirs:  56%|███████████████████████████████████████▉                                | 3585/6459 [00:25<00:39, 72.57it/s]"
     ]
    },
    {
     "name": "stdout",
     "output_type": "stream",
     "text": [
      "critical\n",
      "critical\n",
      "critical\n",
      "critical\n"
     ]
    },
    {
     "name": "stderr",
     "output_type": "stream",
     "text": [
      "dirs:  59%|██████████████████████████████████████████▎                             | 3801/6459 [00:28<00:32, 80.62it/s]"
     ]
    },
    {
     "name": "stdout",
     "output_type": "stream",
     "text": [
      "critical\n",
      "critical\n"
     ]
    },
    {
     "name": "stderr",
     "output_type": "stream",
     "text": [
      "dirs:  62%|████████████████████████████████████████████▏                          | 4018/6459 [00:30<00:21, 114.55it/s]"
     ]
    },
    {
     "name": "stdout",
     "output_type": "stream",
     "text": [
      "critical\n",
      "critical\n",
      "critical\n",
      "critical\n"
     ]
    },
    {
     "name": "stderr",
     "output_type": "stream",
     "text": [
      "dirs:  63%|████████████████████████████████████████████▉                          | 4084/6459 [00:30<00:21, 109.77it/s]"
     ]
    },
    {
     "name": "stdout",
     "output_type": "stream",
     "text": [
      "critical\n",
      "critical\n"
     ]
    },
    {
     "name": "stderr",
     "output_type": "stream",
     "text": [
      "dirs:  70%|█████████████████████████████████████████████████▌                     | 4506/6459 [00:34<00:15, 124.25it/s]"
     ]
    },
    {
     "name": "stdout",
     "output_type": "stream",
     "text": [
      "critical\n",
      "critical\n",
      "critical\n",
      "critical\n"
     ]
    },
    {
     "name": "stderr",
     "output_type": "stream",
     "text": [
      "dirs:  70%|█████████████████████████████████████████████████▊                     | 4534/6459 [00:34<00:16, 117.09it/s]"
     ]
    },
    {
     "name": "stdout",
     "output_type": "stream",
     "text": [
      "critical\n",
      "critical\n"
     ]
    },
    {
     "name": "stderr",
     "output_type": "stream",
     "text": [
      "dirs:  73%|███████████████████████████████████████████████████▋                   | 4700/6459 [00:36<00:17, 103.14it/s]"
     ]
    },
    {
     "name": "stdout",
     "output_type": "stream",
     "text": [
      "critical\n",
      "critical\n"
     ]
    },
    {
     "name": "stderr",
     "output_type": "stream",
     "text": [
      "dirs:  79%|███████████████████████████████████████████████████████▉               | 5093/6459 [00:40<00:10, 124.89it/s]"
     ]
    },
    {
     "name": "stdout",
     "output_type": "stream",
     "text": [
      "critical\n",
      "critical\n"
     ]
    },
    {
     "name": "stderr",
     "output_type": "stream",
     "text": [
      "dirs:  79%|████████████████████████████████████████████████████████▍              | 5134/6459 [00:40<00:10, 124.16it/s]"
     ]
    },
    {
     "name": "stdout",
     "output_type": "stream",
     "text": [
      "critical\n",
      "critical\n"
     ]
    },
    {
     "name": "stderr",
     "output_type": "stream",
     "text": [
      "dirs:  82%|██████████████████████████████████████████████████████████             | 5278/6459 [00:41<00:09, 127.16it/s]"
     ]
    },
    {
     "name": "stdout",
     "output_type": "stream",
     "text": [
      "critical\n",
      "critical\n",
      "critical\n",
      "critical\n",
      "critical\n",
      "critical\n",
      "critical\n",
      "critical\n"
     ]
    },
    {
     "name": "stderr",
     "output_type": "stream",
     "text": [
      "dirs:  83%|██████████████████████████████████████████████████████████▉            | 5363/6459 [00:42<00:08, 128.09it/s]"
     ]
    },
    {
     "name": "stdout",
     "output_type": "stream",
     "text": [
      "critical\n",
      "critical\n"
     ]
    },
    {
     "name": "stderr",
     "output_type": "stream",
     "text": [
      "dirs:  88%|██████████████████████████████████████████████████████████████▍        | 5676/6459 [00:44<00:07, 107.04it/s]"
     ]
    },
    {
     "name": "stdout",
     "output_type": "stream",
     "text": [
      "critical\n",
      "critical\n",
      "critical\n",
      "critical\n",
      "critical\n",
      "critical\n",
      "critical\n",
      "critical\n"
     ]
    },
    {
     "name": "stderr",
     "output_type": "stream",
     "text": [
      "dirs:  97%|████████████████████████████████████████████████████████████████████▊  | 6259/6459 [00:49<00:01, 120.69it/s]"
     ]
    },
    {
     "name": "stdout",
     "output_type": "stream",
     "text": [
      "critical\n",
      "critical\n",
      "critical\n",
      "critical\n"
     ]
    },
    {
     "name": "stderr",
     "output_type": "stream",
     "text": [
      "dirs:  97%|█████████████████████████████████████████████████████████████████████  | 6285/6459 [00:50<00:01, 114.05it/s]"
     ]
    },
    {
     "name": "stdout",
     "output_type": "stream",
     "text": [
      "critical\n",
      "critical\n"
     ]
    },
    {
     "name": "stderr",
     "output_type": "stream",
     "text": [
      "dirs:  99%|██████████████████████████████████████████████████████████████████████▏| 6383/6459 [00:51<00:00, 114.86it/s]"
     ]
    },
    {
     "name": "stdout",
     "output_type": "stream",
     "text": [
      "critical\n",
      "critical\n"
     ]
    },
    {
     "name": "stderr",
     "output_type": "stream",
     "text": [
      "dirs: 100%|██████████████████████████████████████████████████████████████████████▉| 6448/6459 [00:51<00:00, 121.82it/s]"
     ]
    },
    {
     "name": "stdout",
     "output_type": "stream",
     "text": [
      "critical\n",
      "critical\n"
     ]
    },
    {
     "name": "stderr",
     "output_type": "stream",
     "text": [
      "dirs: 100%|███████████████████████████████████████████████████████████████████████| 6459/6459 [00:51<00:00, 124.92it/s]\n"
     ]
    }
   ],
   "source": [
    "\n",
    "folder = \"../LitCovid_Treatment_json/\"\n",
    "dirs = os.listdir(folder)\n",
    "pmids = []\n",
    "entities = []\n",
    "\n",
    "singulars = 0\n",
    "for file in tqdm(dirs, desc = \"dirs\"):\n",
    "# for file in dirs[:3]:\n",
    "#     try:\n",
    "    if file not in [\"exceptionlist.txt\", \"label2id.pkl\", \"predict.tf_record\"]:\n",
    "\n",
    "        #get filepath and read in data\n",
    "        file_path = os.path.join(folder, file)\n",
    "        temp = pd.read_json(file_path)\n",
    "        pmid = file[:-5]\n",
    "        section = split_sections.get(pmid)\n",
    "\n",
    "#             if section[0][0] == \"TITLE\":\n",
    "#                 sec_idx = 1\n",
    "#             else:\n",
    "#                 sec_idx = 0\n",
    "#         print(temp)\n",
    "#         print(section)\n",
    "        for i in range(temp.shape[0]):\n",
    "\n",
    "            #get entities sentence by sentence\n",
    "            ents_dict = temp.sentences.values[i].get(\"entities\")\n",
    "            orig_text = temp.sentences.values[i].get(\"text\")\n",
    "\n",
    "            if i < len(section):\n",
    "                temp_sec = section[i][0]\n",
    "#                     sec_idx +=1\n",
    "\n",
    "            else:\n",
    "                temp_sec = \"ERROR\"\n",
    "\n",
    "            if len(ents_dict.keys()) > 0:\n",
    "                temp_ents = [(ents_dict[k][\"text\"], ents_dict[k][\"class\"], ents_dict[k][\"negation\"], orig_text, temp_sec, pmid) for k in ents_dict.keys()]\n",
    "                true_ents = []\n",
    "                for i in range(len(temp_ents)):\n",
    "                    ent = temp_ents[i][0]\n",
    "                    cl = temp_ents[i][1]\n",
    "                    neg = temp_ents[i][2]\n",
    "                    added = False\n",
    "\n",
    "                    if len(ent) > 1: #make sure it's not punctuation\n",
    "\n",
    "                        if len(ent.split()) > 1: #if phrase\n",
    "\n",
    "                            #check to see if it's in custom set of synonyms\n",
    "                            new_ent = get_syn(ent)\n",
    "                            true_ents.append((new_ent, cl, neg, orig_text, temp_sec, pmid))\n",
    "\n",
    "                        else: #if single word\n",
    "                            if ent.lower() not in stop_words: #if not stop word\n",
    "\n",
    "                                #check to see if it's in custom set of synonyms\n",
    "                                new_ent = get_syn(ent)\n",
    "\n",
    "                                if new_ent != ent:\n",
    "                                    true_ents.append((new_ent, cl, neg, orig_text, temp_sec, pmid))\n",
    "\n",
    "                                else:\n",
    "                                    ent = singularize(ent)\n",
    "                                    new_ent = get_syn(ent)\n",
    "                                    true_ents.append((new_ent, cl, neg, orig_text, temp_sec, pmid))       \n",
    "\n",
    "                                    \n",
    "                entities += true_ents\n",
    "#     except:\n",
    "#         print(pmid)\n",
    "#         print(section)\n",
    "#         print(temp.sentences.values)\n"
   ]
  },
  {
   "cell_type": "code",
   "execution_count": 26,
   "metadata": {
    "scrolled": true
   },
   "outputs": [
    {
     "data": {
      "text/html": [
       "<div>\n",
       "<style scoped>\n",
       "    .dataframe tbody tr th:only-of-type {\n",
       "        vertical-align: middle;\n",
       "    }\n",
       "\n",
       "    .dataframe tbody tr th {\n",
       "        vertical-align: top;\n",
       "    }\n",
       "\n",
       "    .dataframe thead th {\n",
       "        text-align: right;\n",
       "    }\n",
       "</style>\n",
       "<table border=\"1\" class=\"dataframe\">\n",
       "  <thead>\n",
       "    <tr style=\"text-align: right;\">\n",
       "      <th></th>\n",
       "      <th>text</th>\n",
       "      <th>type</th>\n",
       "      <th>negation</th>\n",
       "      <th>sentence</th>\n",
       "      <th>section</th>\n",
       "      <th>pmid</th>\n",
       "    </tr>\n",
       "  </thead>\n",
       "  <tbody>\n",
       "    <tr>\n",
       "      <th>0</th>\n",
       "      <td>covid-19</td>\n",
       "      <td>Participant</td>\n",
       "      <td>0</td>\n",
       "      <td>In this review , we provide an update on CoV i...</td>\n",
       "      <td>BACKGROUND</td>\n",
       "      <td>31981224</td>\n",
       "    </tr>\n",
       "    <tr>\n",
       "      <th>1</th>\n",
       "      <td>relevant</td>\n",
       "      <td>Participant</td>\n",
       "      <td>0</td>\n",
       "      <td>In this review , we provide an update on CoV i...</td>\n",
       "      <td>BACKGROUND</td>\n",
       "      <td>31981224</td>\n",
       "    </tr>\n",
       "    <tr>\n",
       "      <th>2</th>\n",
       "      <td>host defense against</td>\n",
       "      <td>Outcome</td>\n",
       "      <td>0</td>\n",
       "      <td>In this review , we provide an update on CoV i...</td>\n",
       "      <td>BACKGROUND</td>\n",
       "      <td>31981224</td>\n",
       "    </tr>\n",
       "    <tr>\n",
       "      <th>3</th>\n",
       "      <td>covid-19</td>\n",
       "      <td>Participant</td>\n",
       "      <td>0</td>\n",
       "      <td>This highlights the importance of immune respo...</td>\n",
       "      <td>CONCLUSIONS</td>\n",
       "      <td>31981224</td>\n",
       "    </tr>\n",
       "    <tr>\n",
       "      <th>4</th>\n",
       "      <td>covid-19</td>\n",
       "      <td>Participant</td>\n",
       "      <td>0</td>\n",
       "      <td>As of January 22 , 2020 , a total of 571 cases...</td>\n",
       "      <td>TITLE</td>\n",
       "      <td>31996494</td>\n",
       "    </tr>\n",
       "    <tr>\n",
       "      <th>5</th>\n",
       "      <td>inflammation</td>\n",
       "      <td>Outcome</td>\n",
       "      <td>0</td>\n",
       "      <td>Here , we propose for the first time that infl...</td>\n",
       "      <td>RESULTS</td>\n",
       "      <td>32013309</td>\n",
       "    </tr>\n",
       "    <tr>\n",
       "      <th>6</th>\n",
       "      <td>covid-19</td>\n",
       "      <td>Participant</td>\n",
       "      <td>0</td>\n",
       "      <td>Here , we propose for the first time that infl...</td>\n",
       "      <td>RESULTS</td>\n",
       "      <td>32013309</td>\n",
       "    </tr>\n",
       "    <tr>\n",
       "      <th>7</th>\n",
       "      <td>inhibited</td>\n",
       "      <td>modifier</td>\n",
       "      <td>0</td>\n",
       "      <td>Here , we propose for the first time that infl...</td>\n",
       "      <td>RESULTS</td>\n",
       "      <td>32013309</td>\n",
       "    </tr>\n",
       "    <tr>\n",
       "      <th>8</th>\n",
       "      <td>accelerate</td>\n",
       "      <td>modifier</td>\n",
       "      <td>0</td>\n",
       "      <td>accelerate its control .</td>\n",
       "      <td>BACKGROUND</td>\n",
       "      <td>32015560</td>\n",
       "    </tr>\n",
       "    <tr>\n",
       "      <th>9</th>\n",
       "      <td>control</td>\n",
       "      <td>Outcome</td>\n",
       "      <td>0</td>\n",
       "      <td>accelerate its control .</td>\n",
       "      <td>BACKGROUND</td>\n",
       "      <td>32015560</td>\n",
       "    </tr>\n",
       "    <tr>\n",
       "      <th>10</th>\n",
       "      <td>2019-nCoV infection</td>\n",
       "      <td>Participant</td>\n",
       "      <td>0</td>\n",
       "      <td>As of 24 January 2020 , there were 887 confirm...</td>\n",
       "      <td>BACKGROUND</td>\n",
       "      <td>32017984</td>\n",
       "    </tr>\n",
       "    <tr>\n",
       "      <th>11</th>\n",
       "      <td>26</td>\n",
       "      <td>measure</td>\n",
       "      <td>0</td>\n",
       "      <td>As of 24 January 2020 , there were 887 confirm...</td>\n",
       "      <td>BACKGROUND</td>\n",
       "      <td>32017984</td>\n",
       "    </tr>\n",
       "    <tr>\n",
       "      <th>12</th>\n",
       "      <td>dead</td>\n",
       "      <td>Outcome</td>\n",
       "      <td>0</td>\n",
       "      <td>As of 24 January 2020 , there were 887 confirm...</td>\n",
       "      <td>BACKGROUND</td>\n",
       "      <td>32017984</td>\n",
       "    </tr>\n",
       "    <tr>\n",
       "      <th>13</th>\n",
       "      <td>covid-19</td>\n",
       "      <td>Outcome</td>\n",
       "      <td>0</td>\n",
       "      <td>Here , we focus on advances in research and de...</td>\n",
       "      <td>BACKGROUND</td>\n",
       "      <td>32017984</td>\n",
       "    </tr>\n",
       "    <tr>\n",
       "      <th>14</th>\n",
       "      <td>Persistent</td>\n",
       "      <td>modifier</td>\n",
       "      <td>0</td>\n",
       "      <td>Persistent H-bonds and salt bridges were obser...</td>\n",
       "      <td>BACKGROUND</td>\n",
       "      <td>32022276</td>\n",
       "    </tr>\n",
       "    <tr>\n",
       "      <th>15</th>\n",
       "      <td>H-bond</td>\n",
       "      <td>Outcome</td>\n",
       "      <td>0</td>\n",
       "      <td>Persistent H-bonds and salt bridges were obser...</td>\n",
       "      <td>BACKGROUND</td>\n",
       "      <td>32022276</td>\n",
       "    </tr>\n",
       "    <tr>\n",
       "      <th>16</th>\n",
       "      <td>salt bridges</td>\n",
       "      <td>Outcome</td>\n",
       "      <td>0</td>\n",
       "      <td>Persistent H-bonds and salt bridges were obser...</td>\n",
       "      <td>BACKGROUND</td>\n",
       "      <td>32022276</td>\n",
       "    </tr>\n",
       "    <tr>\n",
       "      <th>17</th>\n",
       "      <td>epitope</td>\n",
       "      <td>Intervention</td>\n",
       "      <td>0</td>\n",
       "      <td>Persistent H-bonds and salt bridges were obser...</td>\n",
       "      <td>BACKGROUND</td>\n",
       "      <td>32022276</td>\n",
       "    </tr>\n",
       "    <tr>\n",
       "      <th>18</th>\n",
       "      <td>MHC-I</td>\n",
       "      <td>Intervention</td>\n",
       "      <td>0</td>\n",
       "      <td>Persistent H-bonds and salt bridges were obser...</td>\n",
       "      <td>BACKGROUND</td>\n",
       "      <td>32022276</td>\n",
       "    </tr>\n",
       "    <tr>\n",
       "      <th>19</th>\n",
       "      <td>2019-nCoV surface</td>\n",
       "      <td>Participant</td>\n",
       "      <td>0</td>\n",
       "      <td>This study took an immunoinformatics approach ...</td>\n",
       "      <td>RESULTS</td>\n",
       "      <td>32022276</td>\n",
       "    </tr>\n",
       "    <tr>\n",
       "      <th>20</th>\n",
       "      <td>interaction</td>\n",
       "      <td>Outcome</td>\n",
       "      <td>0</td>\n",
       "      <td>Also , interactions between identified CTL epi...</td>\n",
       "      <td>RESULTS</td>\n",
       "      <td>32022276</td>\n",
       "    </tr>\n",
       "    <tr>\n",
       "      <th>21</th>\n",
       "      <td>CTL</td>\n",
       "      <td>Intervention</td>\n",
       "      <td>0</td>\n",
       "      <td>Also , interactions between identified CTL epi...</td>\n",
       "      <td>RESULTS</td>\n",
       "      <td>32022276</td>\n",
       "    </tr>\n",
       "    <tr>\n",
       "      <th>22</th>\n",
       "      <td>CTL</td>\n",
       "      <td>Outcome</td>\n",
       "      <td>0</td>\n",
       "      <td>We identified five CTL epitopes , three sequen...</td>\n",
       "      <td>RESULTS</td>\n",
       "      <td>32022276</td>\n",
       "    </tr>\n",
       "    <tr>\n",
       "      <th>23</th>\n",
       "      <td>sequential B</td>\n",
       "      <td>Outcome</td>\n",
       "      <td>0</td>\n",
       "      <td>We identified five CTL epitopes , three sequen...</td>\n",
       "      <td>RESULTS</td>\n",
       "      <td>32022276</td>\n",
       "    </tr>\n",
       "    <tr>\n",
       "      <th>24</th>\n",
       "      <td>CTL epitopes</td>\n",
       "      <td>Intervention</td>\n",
       "      <td>0</td>\n",
       "      <td>Also , during simulations , the CTL epitopes w...</td>\n",
       "      <td>RESULTS</td>\n",
       "      <td>32022276</td>\n",
       "    </tr>\n",
       "    <tr>\n",
       "      <th>25</th>\n",
       "      <td>CTL</td>\n",
       "      <td>Outcome</td>\n",
       "      <td>0</td>\n",
       "      <td>Five CTL epitopes and eight B cell epitopes we...</td>\n",
       "      <td>RESULTS</td>\n",
       "      <td>32022276</td>\n",
       "    </tr>\n",
       "    <tr>\n",
       "      <th>26</th>\n",
       "      <td>eight</td>\n",
       "      <td>measure</td>\n",
       "      <td>0</td>\n",
       "      <td>Five CTL epitopes and eight B cell epitopes we...</td>\n",
       "      <td>RESULTS</td>\n",
       "      <td>32022276</td>\n",
       "    </tr>\n",
       "    <tr>\n",
       "      <th>27</th>\n",
       "      <td>B cell</td>\n",
       "      <td>Outcome</td>\n",
       "      <td>0</td>\n",
       "      <td>Five CTL epitopes and eight B cell epitopes we...</td>\n",
       "      <td>RESULTS</td>\n",
       "      <td>32022276</td>\n",
       "    </tr>\n",
       "    <tr>\n",
       "      <th>28</th>\n",
       "      <td>Epitope-MHC-I</td>\n",
       "      <td>Outcome</td>\n",
       "      <td>0</td>\n",
       "      <td>Epitope-MHC-I complexes were studied by molecu...</td>\n",
       "      <td>RESULTS</td>\n",
       "      <td>32022276</td>\n",
       "    </tr>\n",
       "    <tr>\n",
       "      <th>29</th>\n",
       "      <td>remdesivir</td>\n",
       "      <td>Intervention</td>\n",
       "      <td>0</td>\n",
       "      <td>Herein , we suggest four potential drug candid...</td>\n",
       "      <td>RESULTS</td>\n",
       "      <td>32022370</td>\n",
       "    </tr>\n",
       "    <tr>\n",
       "      <th>...</th>\n",
       "      <td>...</td>\n",
       "      <td>...</td>\n",
       "      <td>...</td>\n",
       "      <td>...</td>\n",
       "      <td>...</td>\n",
       "      <td>...</td>\n",
       "    </tr>\n",
       "    <tr>\n",
       "      <th>121639</th>\n",
       "      <td>peak liver injury</td>\n",
       "      <td>Outcome</td>\n",
       "      <td>0</td>\n",
       "      <td>In 30 % of patients with mild liver injury and...</td>\n",
       "      <td>OBJECTIVE</td>\n",
       "      <td>32777784</td>\n",
       "    </tr>\n",
       "    <tr>\n",
       "      <th>121640</th>\n",
       "      <td>detectable</td>\n",
       "      <td>modifier</td>\n",
       "      <td>0</td>\n",
       "      <td>was no longer detectable in the respiratory tr...</td>\n",
       "      <td>METHODS</td>\n",
       "      <td>32777784</td>\n",
       "    </tr>\n",
       "    <tr>\n",
       "      <th>121641</th>\n",
       "      <td>Mild liver injury</td>\n",
       "      <td>Participant</td>\n",
       "      <td>0</td>\n",
       "      <td>CONCLUSION : Mild liver injury was not associa...</td>\n",
       "      <td>METHODS</td>\n",
       "      <td>32777784</td>\n",
       "    </tr>\n",
       "    <tr>\n",
       "      <th>121642</th>\n",
       "      <td>worse</td>\n",
       "      <td>modifier</td>\n",
       "      <td>0</td>\n",
       "      <td>CONCLUSION : Mild liver injury was not associa...</td>\n",
       "      <td>METHODS</td>\n",
       "      <td>32777784</td>\n",
       "    </tr>\n",
       "    <tr>\n",
       "      <th>121643</th>\n",
       "      <td>outcome</td>\n",
       "      <td>Outcome</td>\n",
       "      <td>0</td>\n",
       "      <td>CONCLUSION : Mild liver injury was not associa...</td>\n",
       "      <td>METHODS</td>\n",
       "      <td>32777784</td>\n",
       "    </tr>\n",
       "    <tr>\n",
       "      <th>121644</th>\n",
       "      <td>liver impairment</td>\n",
       "      <td>Outcome</td>\n",
       "      <td>0</td>\n",
       "      <td>causing liver impairment .</td>\n",
       "      <td>METHODS</td>\n",
       "      <td>32777784</td>\n",
       "    </tr>\n",
       "    <tr>\n",
       "      <th>121645</th>\n",
       "      <td>severe liver injury</td>\n",
       "      <td>Outcome</td>\n",
       "      <td>0</td>\n",
       "      <td>Instead , severe liver injury in our cohort wa...</td>\n",
       "      <td>METHODS</td>\n",
       "      <td>32777784</td>\n",
       "    </tr>\n",
       "    <tr>\n",
       "      <th>121646</th>\n",
       "      <td>associated</td>\n",
       "      <td>modifier</td>\n",
       "      <td>0</td>\n",
       "      <td>Instead , severe liver injury in our cohort wa...</td>\n",
       "      <td>METHODS</td>\n",
       "      <td>32777784</td>\n",
       "    </tr>\n",
       "    <tr>\n",
       "      <th>121647</th>\n",
       "      <td>multiple-organ failure</td>\n",
       "      <td>Outcome</td>\n",
       "      <td>0</td>\n",
       "      <td>Instead , severe liver injury in our cohort wa...</td>\n",
       "      <td>METHODS</td>\n",
       "      <td>32777784</td>\n",
       "    </tr>\n",
       "    <tr>\n",
       "      <th>121648</th>\n",
       "      <td>acute vascular events</td>\n",
       "      <td>Outcome</td>\n",
       "      <td>0</td>\n",
       "      <td>Instead , severe liver injury in our cohort wa...</td>\n",
       "      <td>METHODS</td>\n",
       "      <td>32777784</td>\n",
       "    </tr>\n",
       "    <tr>\n",
       "      <th>121649</th>\n",
       "      <td>prevalence of liver injury</td>\n",
       "      <td>Outcome</td>\n",
       "      <td>0</td>\n",
       "      <td>Aim of our study was to report on the prevalen...</td>\n",
       "      <td>RESULTS</td>\n",
       "      <td>32777784</td>\n",
       "    </tr>\n",
       "    <tr>\n",
       "      <th>121650</th>\n",
       "      <td>mild vs severe liver injury</td>\n",
       "      <td>Intervention</td>\n",
       "      <td>0</td>\n",
       "      <td>Aim of our study was to report on the prevalen...</td>\n",
       "      <td>RESULTS</td>\n",
       "      <td>32777784</td>\n",
       "    </tr>\n",
       "    <tr>\n",
       "      <th>121651</th>\n",
       "      <td>dead</td>\n",
       "      <td>Outcome</td>\n",
       "      <td>0</td>\n",
       "      <td>Aim of our study was to report on the prevalen...</td>\n",
       "      <td>RESULTS</td>\n",
       "      <td>32777784</td>\n",
       "    </tr>\n",
       "    <tr>\n",
       "      <th>121652</th>\n",
       "      <td>covid-19</td>\n",
       "      <td>Intervention</td>\n",
       "      <td>0</td>\n",
       "      <td>COVID-19 patients and to scrutinize the tempor...</td>\n",
       "      <td>RESULTS</td>\n",
       "      <td>32777784</td>\n",
       "    </tr>\n",
       "    <tr>\n",
       "      <th>121653</th>\n",
       "      <td>liver injury</td>\n",
       "      <td>Outcome</td>\n",
       "      <td>0</td>\n",
       "      <td>COVID-19 patients and to scrutinize the tempor...</td>\n",
       "      <td>RESULTS</td>\n",
       "      <td>32777784</td>\n",
       "    </tr>\n",
       "    <tr>\n",
       "      <th>121654</th>\n",
       "      <td>covid-19</td>\n",
       "      <td>Participant</td>\n",
       "      <td>0</td>\n",
       "      <td>METHODS : We present data from a German cohort...</td>\n",
       "      <td>RESULTS</td>\n",
       "      <td>32777784</td>\n",
       "    </tr>\n",
       "    <tr>\n",
       "      <th>121655</th>\n",
       "      <td>elevated</td>\n",
       "      <td>Participant</td>\n",
       "      <td>0</td>\n",
       "      <td>The first group included patients without elev...</td>\n",
       "      <td>RESULTS</td>\n",
       "      <td>32777784</td>\n",
       "    </tr>\n",
       "    <tr>\n",
       "      <th>121656</th>\n",
       "      <td>alanine aminotransferase or</td>\n",
       "      <td>Participant</td>\n",
       "      <td>0</td>\n",
       "      <td>The first group included patients without elev...</td>\n",
       "      <td>RESULTS</td>\n",
       "      <td>32777784</td>\n",
       "    </tr>\n",
       "    <tr>\n",
       "      <th>121657</th>\n",
       "      <td>bilirubin</td>\n",
       "      <td>Participant</td>\n",
       "      <td>0</td>\n",
       "      <td>The first group included patients without elev...</td>\n",
       "      <td>RESULTS</td>\n",
       "      <td>32777784</td>\n",
       "    </tr>\n",
       "    <tr>\n",
       "      <th>121658</th>\n",
       "      <td>acute liver failure ( ALF )</td>\n",
       "      <td>Participant</td>\n",
       "      <td>0</td>\n",
       "      <td>The first group included patients without elev...</td>\n",
       "      <td>RESULTS</td>\n",
       "      <td>32777784</td>\n",
       "    </tr>\n",
       "    <tr>\n",
       "      <th>121659</th>\n",
       "      <td>Liver injury</td>\n",
       "      <td>Outcome</td>\n",
       "      <td>0</td>\n",
       "      <td>RESULTS : Liver injury was detected in 75 ( 50...</td>\n",
       "      <td>RESULTS</td>\n",
       "      <td>32777784</td>\n",
       "    </tr>\n",
       "    <tr>\n",
       "      <th>121660</th>\n",
       "      <td>75 ( 50.7 % )</td>\n",
       "      <td>measure</td>\n",
       "      <td>0</td>\n",
       "      <td>RESULTS : Liver injury was detected in 75 ( 50...</td>\n",
       "      <td>RESULTS</td>\n",
       "      <td>32777784</td>\n",
       "    </tr>\n",
       "    <tr>\n",
       "      <th>121661</th>\n",
       "      <td>93 ( 63 % )</td>\n",
       "      <td>measure</td>\n",
       "      <td>0</td>\n",
       "      <td>RESULTS : Liver injury was detected in 75 ( 50...</td>\n",
       "      <td>RESULTS</td>\n",
       "      <td>32777784</td>\n",
       "    </tr>\n",
       "    <tr>\n",
       "      <th>121662</th>\n",
       "      <td>ALF</td>\n",
       "      <td>Outcome</td>\n",
       "      <td>0</td>\n",
       "      <td>ALF was associated with the male sex , younger...</td>\n",
       "      <td>RESULTS</td>\n",
       "      <td>32777784</td>\n",
       "    </tr>\n",
       "    <tr>\n",
       "      <th>121663</th>\n",
       "      <td>associated</td>\n",
       "      <td>modifier</td>\n",
       "      <td>0</td>\n",
       "      <td>ALF was associated with the male sex , younger...</td>\n",
       "      <td>RESULTS</td>\n",
       "      <td>32777784</td>\n",
       "    </tr>\n",
       "    <tr>\n",
       "      <th>121664</th>\n",
       "      <td>male</td>\n",
       "      <td>Participant</td>\n",
       "      <td>0</td>\n",
       "      <td>ALF was associated with the male sex , younger...</td>\n",
       "      <td>RESULTS</td>\n",
       "      <td>32777784</td>\n",
       "    </tr>\n",
       "    <tr>\n",
       "      <th>121665</th>\n",
       "      <td>younger</td>\n",
       "      <td>modifier</td>\n",
       "      <td>0</td>\n",
       "      <td>ALF was associated with the male sex , younger...</td>\n",
       "      <td>RESULTS</td>\n",
       "      <td>32777784</td>\n",
       "    </tr>\n",
       "    <tr>\n",
       "      <th>121666</th>\n",
       "      <td>age</td>\n",
       "      <td>Participant</td>\n",
       "      <td>0</td>\n",
       "      <td>ALF was associated with the male sex , younger...</td>\n",
       "      <td>RESULTS</td>\n",
       "      <td>32777784</td>\n",
       "    </tr>\n",
       "    <tr>\n",
       "      <th>121667</th>\n",
       "      <td>higher</td>\n",
       "      <td>modifier</td>\n",
       "      <td>0</td>\n",
       "      <td>ALF was associated with the male sex , younger...</td>\n",
       "      <td>RESULTS</td>\n",
       "      <td>32777784</td>\n",
       "    </tr>\n",
       "    <tr>\n",
       "      <th>121668</th>\n",
       "      <td>BMI</td>\n",
       "      <td>Participant</td>\n",
       "      <td>0</td>\n",
       "      <td>ALF was associated with the male sex , younger...</td>\n",
       "      <td>RESULTS</td>\n",
       "      <td>32777784</td>\n",
       "    </tr>\n",
       "  </tbody>\n",
       "</table>\n",
       "<p>121669 rows × 6 columns</p>\n",
       "</div>"
      ],
      "text/plain": [
       "                               text          type  negation  \\\n",
       "0                          covid-19   Participant         0   \n",
       "1                          relevant   Participant         0   \n",
       "2              host defense against       Outcome         0   \n",
       "3                          covid-19   Participant         0   \n",
       "4                          covid-19   Participant         0   \n",
       "5                      inflammation       Outcome         0   \n",
       "6                          covid-19   Participant         0   \n",
       "7                         inhibited      modifier         0   \n",
       "8                        accelerate      modifier         0   \n",
       "9                           control       Outcome         0   \n",
       "10              2019-nCoV infection   Participant         0   \n",
       "11                               26       measure         0   \n",
       "12                             dead       Outcome         0   \n",
       "13                         covid-19       Outcome         0   \n",
       "14                       Persistent      modifier         0   \n",
       "15                           H-bond       Outcome         0   \n",
       "16                     salt bridges       Outcome         0   \n",
       "17                          epitope  Intervention         0   \n",
       "18                            MHC-I  Intervention         0   \n",
       "19                2019-nCoV surface   Participant         0   \n",
       "20                      interaction       Outcome         0   \n",
       "21                              CTL  Intervention         0   \n",
       "22                              CTL       Outcome         0   \n",
       "23                     sequential B       Outcome         0   \n",
       "24                     CTL epitopes  Intervention         0   \n",
       "25                              CTL       Outcome         0   \n",
       "26                            eight       measure         0   \n",
       "27                           B cell       Outcome         0   \n",
       "28                    Epitope-MHC-I       Outcome         0   \n",
       "29                       remdesivir  Intervention         0   \n",
       "...                             ...           ...       ...   \n",
       "121639            peak liver injury       Outcome         0   \n",
       "121640                   detectable      modifier         0   \n",
       "121641            Mild liver injury   Participant         0   \n",
       "121642                        worse      modifier         0   \n",
       "121643                      outcome       Outcome         0   \n",
       "121644             liver impairment       Outcome         0   \n",
       "121645          severe liver injury       Outcome         0   \n",
       "121646                   associated      modifier         0   \n",
       "121647       multiple-organ failure       Outcome         0   \n",
       "121648        acute vascular events       Outcome         0   \n",
       "121649   prevalence of liver injury       Outcome         0   \n",
       "121650  mild vs severe liver injury  Intervention         0   \n",
       "121651                         dead       Outcome         0   \n",
       "121652                     covid-19  Intervention         0   \n",
       "121653                 liver injury       Outcome         0   \n",
       "121654                     covid-19   Participant         0   \n",
       "121655                     elevated   Participant         0   \n",
       "121656  alanine aminotransferase or   Participant         0   \n",
       "121657                    bilirubin   Participant         0   \n",
       "121658  acute liver failure ( ALF )   Participant         0   \n",
       "121659                 Liver injury       Outcome         0   \n",
       "121660                75 ( 50.7 % )       measure         0   \n",
       "121661                  93 ( 63 % )       measure         0   \n",
       "121662                          ALF       Outcome         0   \n",
       "121663                   associated      modifier         0   \n",
       "121664                         male   Participant         0   \n",
       "121665                      younger      modifier         0   \n",
       "121666                          age   Participant         0   \n",
       "121667                       higher      modifier         0   \n",
       "121668                          BMI   Participant         0   \n",
       "\n",
       "                                                 sentence      section  \\\n",
       "0       In this review , we provide an update on CoV i...   BACKGROUND   \n",
       "1       In this review , we provide an update on CoV i...   BACKGROUND   \n",
       "2       In this review , we provide an update on CoV i...   BACKGROUND   \n",
       "3       This highlights the importance of immune respo...  CONCLUSIONS   \n",
       "4       As of January 22 , 2020 , a total of 571 cases...        TITLE   \n",
       "5       Here , we propose for the first time that infl...      RESULTS   \n",
       "6       Here , we propose for the first time that infl...      RESULTS   \n",
       "7       Here , we propose for the first time that infl...      RESULTS   \n",
       "8                                accelerate its control .   BACKGROUND   \n",
       "9                                accelerate its control .   BACKGROUND   \n",
       "10      As of 24 January 2020 , there were 887 confirm...   BACKGROUND   \n",
       "11      As of 24 January 2020 , there were 887 confirm...   BACKGROUND   \n",
       "12      As of 24 January 2020 , there were 887 confirm...   BACKGROUND   \n",
       "13      Here , we focus on advances in research and de...   BACKGROUND   \n",
       "14      Persistent H-bonds and salt bridges were obser...   BACKGROUND   \n",
       "15      Persistent H-bonds and salt bridges were obser...   BACKGROUND   \n",
       "16      Persistent H-bonds and salt bridges were obser...   BACKGROUND   \n",
       "17      Persistent H-bonds and salt bridges were obser...   BACKGROUND   \n",
       "18      Persistent H-bonds and salt bridges were obser...   BACKGROUND   \n",
       "19      This study took an immunoinformatics approach ...      RESULTS   \n",
       "20      Also , interactions between identified CTL epi...      RESULTS   \n",
       "21      Also , interactions between identified CTL epi...      RESULTS   \n",
       "22      We identified five CTL epitopes , three sequen...      RESULTS   \n",
       "23      We identified five CTL epitopes , three sequen...      RESULTS   \n",
       "24      Also , during simulations , the CTL epitopes w...      RESULTS   \n",
       "25      Five CTL epitopes and eight B cell epitopes we...      RESULTS   \n",
       "26      Five CTL epitopes and eight B cell epitopes we...      RESULTS   \n",
       "27      Five CTL epitopes and eight B cell epitopes we...      RESULTS   \n",
       "28      Epitope-MHC-I complexes were studied by molecu...      RESULTS   \n",
       "29      Herein , we suggest four potential drug candid...      RESULTS   \n",
       "...                                                   ...          ...   \n",
       "121639  In 30 % of patients with mild liver injury and...    OBJECTIVE   \n",
       "121640  was no longer detectable in the respiratory tr...      METHODS   \n",
       "121641  CONCLUSION : Mild liver injury was not associa...      METHODS   \n",
       "121642  CONCLUSION : Mild liver injury was not associa...      METHODS   \n",
       "121643  CONCLUSION : Mild liver injury was not associa...      METHODS   \n",
       "121644                         causing liver impairment .      METHODS   \n",
       "121645  Instead , severe liver injury in our cohort wa...      METHODS   \n",
       "121646  Instead , severe liver injury in our cohort wa...      METHODS   \n",
       "121647  Instead , severe liver injury in our cohort wa...      METHODS   \n",
       "121648  Instead , severe liver injury in our cohort wa...      METHODS   \n",
       "121649  Aim of our study was to report on the prevalen...      RESULTS   \n",
       "121650  Aim of our study was to report on the prevalen...      RESULTS   \n",
       "121651  Aim of our study was to report on the prevalen...      RESULTS   \n",
       "121652  COVID-19 patients and to scrutinize the tempor...      RESULTS   \n",
       "121653  COVID-19 patients and to scrutinize the tempor...      RESULTS   \n",
       "121654  METHODS : We present data from a German cohort...      RESULTS   \n",
       "121655  The first group included patients without elev...      RESULTS   \n",
       "121656  The first group included patients without elev...      RESULTS   \n",
       "121657  The first group included patients without elev...      RESULTS   \n",
       "121658  The first group included patients without elev...      RESULTS   \n",
       "121659  RESULTS : Liver injury was detected in 75 ( 50...      RESULTS   \n",
       "121660  RESULTS : Liver injury was detected in 75 ( 50...      RESULTS   \n",
       "121661  RESULTS : Liver injury was detected in 75 ( 50...      RESULTS   \n",
       "121662  ALF was associated with the male sex , younger...      RESULTS   \n",
       "121663  ALF was associated with the male sex , younger...      RESULTS   \n",
       "121664  ALF was associated with the male sex , younger...      RESULTS   \n",
       "121665  ALF was associated with the male sex , younger...      RESULTS   \n",
       "121666  ALF was associated with the male sex , younger...      RESULTS   \n",
       "121667  ALF was associated with the male sex , younger...      RESULTS   \n",
       "121668  ALF was associated with the male sex , younger...      RESULTS   \n",
       "\n",
       "            pmid  \n",
       "0       31981224  \n",
       "1       31981224  \n",
       "2       31981224  \n",
       "3       31981224  \n",
       "4       31996494  \n",
       "5       32013309  \n",
       "6       32013309  \n",
       "7       32013309  \n",
       "8       32015560  \n",
       "9       32015560  \n",
       "10      32017984  \n",
       "11      32017984  \n",
       "12      32017984  \n",
       "13      32017984  \n",
       "14      32022276  \n",
       "15      32022276  \n",
       "16      32022276  \n",
       "17      32022276  \n",
       "18      32022276  \n",
       "19      32022276  \n",
       "20      32022276  \n",
       "21      32022276  \n",
       "22      32022276  \n",
       "23      32022276  \n",
       "24      32022276  \n",
       "25      32022276  \n",
       "26      32022276  \n",
       "27      32022276  \n",
       "28      32022276  \n",
       "29      32022370  \n",
       "...          ...  \n",
       "121639  32777784  \n",
       "121640  32777784  \n",
       "121641  32777784  \n",
       "121642  32777784  \n",
       "121643  32777784  \n",
       "121644  32777784  \n",
       "121645  32777784  \n",
       "121646  32777784  \n",
       "121647  32777784  \n",
       "121648  32777784  \n",
       "121649  32777784  \n",
       "121650  32777784  \n",
       "121651  32777784  \n",
       "121652  32777784  \n",
       "121653  32777784  \n",
       "121654  32777784  \n",
       "121655  32777784  \n",
       "121656  32777784  \n",
       "121657  32777784  \n",
       "121658  32777784  \n",
       "121659  32777784  \n",
       "121660  32777784  \n",
       "121661  32777784  \n",
       "121662  32777784  \n",
       "121663  32777784  \n",
       "121664  32777784  \n",
       "121665  32777784  \n",
       "121666  32777784  \n",
       "121667  32777784  \n",
       "121668  32777784  \n",
       "\n",
       "[121669 rows x 6 columns]"
      ]
     },
     "execution_count": 26,
     "metadata": {},
     "output_type": "execute_result"
    }
   ],
   "source": [
    "ent_df = pd.DataFrame(entities, columns=[\"text\", \"type\", \"negation\", \"sentence\", \"section\", \"pmid\"])\n",
    "ent_df.to_csv(\"LitCovid_treatment_ents.csv\")\n",
    "ent_df\n"
   ]
  },
  {
   "cell_type": "code",
   "execution_count": 140,
   "metadata": {},
   "outputs": [
    {
     "data": {
      "text/plain": [
       "array([{'Section': 'METHODS', 'text': 'Coronavirus can cause respiratory syndrome which to date has affected about twelve thousand individuals , especially in China .', 'entities': {}, 'relations': {}},\n",
       "       {'Section': 'METHODS', 'text': 'Coronavirus is interspecies and can also be transmitted from man to man , with an incubation ranging from 1 to 14 days .', 'entities': {}, 'relations': {}},\n",
       "       {'Section': 'METHODS', 'text': 'Human coronavirus infections can induce not only mild to severe respiratory diseases , but also inflammation , high fever , cough , acute respiratory tract infection and dysfunction of internal', 'entities': {}, 'relations': {}},\n",
       "       {'Section': 'METHODS', 'text': 'organs that may lead to death .', 'entities': {}, 'relations': {}},\n",
       "       {'Section': 'METHODS', 'text': 'Coronavirus infection ( regardless of the various types of corona virus ) is primarily attacked by immune cells including mast cells ( MCs ) , which are located in the', 'entities': {}, 'relations': {}},\n",
       "       {'Section': 'METHODS', 'text': 'submucosa of the respiratory tract and in the nasal cavity and represent a barrier of protection against microorganisms .', 'entities': {}, 'relations': {}},\n",
       "       {'Section': 'METHODS', 'text': 'Viral activate MCs release early inflammatory chemical copounds including histamine and protease ; while late activation provoke the generation of pro-inflammatory IL-1 family members including IL-1 , IL-6 and IL-33', 'entities': {}, 'relations': {}},\n",
       "       {'Section': 'METHODS', 'text': '.', 'entities': {}, 'relations': {}},\n",
       "       {'Section': 'METHODS', 'text': 'Here , we propose for the first time that inflammation by coronavirus maybe inhibited by anti-inflammatory cytokines belonging to the IL-1 family members .', 'entities': {'entity_1': {'text': 'inflammation', 'class': 'Outcome', 'negation': 0, 'UMLS': '', 'start': 9}, 'entity_2': {'text': 'coronavirus', 'class': 'Participant', 'negation': 0, 'UMLS': '', 'start': 11}, 'attribute_1': {'text': 'inhibited', 'class': 'modifier', 'negation': 0, 'UMLS': '', 'start': 13}}, 'relations': {}}],\n",
       "      dtype=object)"
      ]
     },
     "execution_count": 140,
     "metadata": {},
     "output_type": "execute_result"
    }
   ],
   "source": [
    "file = \"32013309.json\"\n",
    "file_path = os.path.join(folder, file)\n",
    "temp = pd.read_json(file_path)\n",
    "    \n",
    "temp.sentences.values"
   ]
  },
  {
   "cell_type": "code",
   "execution_count": 141,
   "metadata": {},
   "outputs": [
    {
     "data": {
      "text/plain": [
       "[('TITLE',\n",
       "  'Mast cells contribute to coronavirus-induced inflammation: new anti-inflammatory strategy.'),\n",
       " ('BACKGROUND',\n",
       "  'Coronavirus can cause respiratory syndrome which to date has affected about twelve thousand individuals , especially in China .'),\n",
       " ('RESULTS',\n",
       "  'Coronavirus is interspecies and can also be transmitted from man to man , with an incubation ranging from 1 to 14 days .'),\n",
       " ('RESULTS',\n",
       "  'Human coronavirus infections can induce not only mild to severe respiratory diseases , but also inflammation , high fever , cough , acute respiratory tract infection and dysfunction of internal organs that may lead to death .'),\n",
       " ('RESULTS',\n",
       "  'Coronavirus infection ( regardless of the various types of corona virus ) is primarily attacked by immune cells including mast cells ( MCs ) , which are located in the submucosa of the respiratory tract and in the nasal cavity and represent a barrier of protection against microorganisms .'),\n",
       " ('RESULTS',\n",
       "  'Viral activate MCs release early inflammatory chemical copounds including histamine and protease ; while late activation provoke the generation of pro-inflammatory IL - 1 family members including IL - 1 , IL - 6 and IL - 33 .'),\n",
       " ('CONCLUSIONS',\n",
       "  'Here , we propose for the first time that inflammation by coronavirus maybe inhibited by anti-inflammatory cytokines belonging to the IL - 1 family members .')]"
      ]
     },
     "execution_count": 141,
     "metadata": {},
     "output_type": "execute_result"
    }
   ],
   "source": [
    "sections.get(\"32013309\")"
   ]
  },
  {
   "cell_type": "markdown",
   "metadata": {},
   "source": [
    "# Send counters to pickle file"
   ]
  },
  {
   "cell_type": "code",
   "execution_count": 142,
   "metadata": {
    "scrolled": true
   },
   "outputs": [],
   "source": [
    "ent_df = pd.read_csv(\"LitCovid_treatment_ents.csv\")\n",
    "p_count = Counter(ent_df[ent_df.type == \"Participant\"].text.values)\n",
    "i_count = Counter(ent_df[ent_df.type == \"Intervention\"].text.values)\n",
    "o_count = Counter(ent_df[ent_df.type == \"Outcome\"].text.values)\n",
    "\n",
    "counters = [p_count, i_count, o_count]\n",
    "c_names = [\"p_count\", \"i_count\", \"o_count\"]\n",
    "for i in range(len(counters)):\n",
    "    with open(\"Pickles/\" + c_names[i] + '.pickle', 'wb') as file:\n",
    "        pickle.dump(counters[i], file)\n",
    "    "
   ]
  },
  {
   "cell_type": "markdown",
   "metadata": {},
   "source": [
    "# Building weighted graph"
   ]
  },
  {
   "cell_type": "code",
   "execution_count": null,
   "metadata": {},
   "outputs": [
    {
     "name": "stderr",
     "output_type": "stream",
     "text": [
      " 28%|█████████████████▊                                              | 33980/121669 [03:07<12:23, 117.86it/s]"
     ]
    }
   ],
   "source": [
    "from collections import Counter\n",
    "import itertools as it\n",
    "\n",
    "# get data and group\n",
    "ent_df = pd.read_csv(\"LitCovid_treatment_ents.csv\")\n",
    "g = ent_df.groupby([\"pmid\", \"type\"])\n",
    "\n",
    "#initialize variables\n",
    "groups = list(g.groups)\n",
    "types = [\"Participant\", \"Outcome\", \"Intervention\"]\n",
    "edge_weight = Counter()\n",
    "nodes = []\n",
    "\n",
    "for p in tqdm(ent_df.pmid.values):\n",
    "    temp = []\n",
    "    for tup in list(it.product([p], types)):\n",
    "        if tup in groups:\n",
    "            \n",
    "            #get pmid entities\n",
    "            grp = g.get_group(tup)\n",
    "            \n",
    "            #format appropriately\n",
    "            temp_nodes = [\"{} ({})\".format(t, tup[1][0]) for t in grp.text.values]\n",
    "            temp.append(temp_nodes)\n",
    "            nodes += temp_nodes\n",
    "        else:\n",
    "            temp.append([])\n",
    "            \n",
    "    #get edges\n",
    "    products = [list(it.product(temp[0], temp[1])), list(it.product(temp[0], temp[2])), list(it.product(temp[1], temp[2]))]\n",
    "    \n",
    "    #add edges to adj list\n",
    "    for prod in products:\n",
    "        if prod != []:\n",
    "            edge_weight.update(prod)"
   ]
  },
  {
   "cell_type": "code",
   "execution_count": null,
   "metadata": {},
   "outputs": [],
   "source": [
    "with open(\"Pickles/\" + 'wb') as file:\n",
    "    pickle.dump(edge_weight, file)"
   ]
  },
  {
   "cell_type": "code",
   "execution_count": null,
   "metadata": {},
   "outputs": [],
   "source": [
    "with open('edges.pickle', 'rb') as file:\n",
    "    edge_weight = pickle.load(file)"
   ]
  },
  {
   "cell_type": "code",
   "execution_count": null,
   "metadata": {},
   "outputs": [],
   "source": [
    "import networkx as nx\n",
    "from pyvis.network import Network\n",
    "import matplotlib.pyplot as plt\n",
    "\n",
    "G = nx.Graph()\n",
    "for item in edge_weight.most_common(200):\n",
    "    G.add_edge(item[0][0], item[0][1], weight=item[1]*100)\n",
    "\n",
    "\n",
    "\n",
    "g = Network(height=800, width=800, notebook=True)\n",
    "g.barnes_hut()\n",
    "g.from_nx(G)\n",
    "g.show_buttons(filter_=['physics'])\n",
    "g.show(\"ex.html\")\n",
    "\n"
   ]
  }
 ],
 "metadata": {
  "kernelspec": {
   "display_name": "Python 3",
   "language": "python",
   "name": "python3"
  },
  "language_info": {
   "codemirror_mode": {
    "name": "ipython",
    "version": 3
   },
   "file_extension": ".py",
   "mimetype": "text/x-python",
   "name": "python",
   "nbconvert_exporter": "python",
   "pygments_lexer": "ipython3",
   "version": "3.7.0"
  }
 },
 "nbformat": 4,
 "nbformat_minor": 2
}
