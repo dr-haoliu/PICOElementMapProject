{
 "cells": [
  {
   "cell_type": "code",
   "execution_count": 1,
   "metadata": {},
   "outputs": [],
   "source": [
    "import nltk\n",
    "#import spacy\n",
    "import pandas as pd\n",
    "from tqdm import tqdm\n",
    "import os\n",
    "import nltk\n",
    "import numpy as np\n",
    "from pattern.text.en import singularize\n",
    "import nltk\n",
    "from nltk.corpus import stopwords\n",
    "stop_words = stopwords.words('english')\n",
    "import pickle\n",
    "from collections import Counter\n",
    "from scipy.stats import chi2_contingency"
   ]
  },
  {
   "cell_type": "code",
   "execution_count": 2,
   "metadata": {},
   "outputs": [],
   "source": [
    "#get all entities\n",
    "ent_df = pd.read_csv(\"Litcovid_treatment_ents.csv\")\n",
    "\n",
    "#create multiindex df to sort by pmid\n",
    "tuples = list(zip(*[ent_df['pmid'], ent_df['Unnamed: 0']]))\n",
    "index = pd.MultiIndex.from_tuples(tuples, names=['pmid', 'orig_index'])\n",
    "pmid_ent_df = ent_df.copy()\n",
    "pmid_ent_df.drop([\"Unnamed: 0\"], axis=1, inplace=True)\n",
    "pmid_ent_df.index = index"
   ]
  },
  {
   "cell_type": "code",
   "execution_count": 4,
   "metadata": {},
   "outputs": [
    {
     "data": {
      "text/html": [
       "<div>\n",
       "<style scoped>\n",
       "    .dataframe tbody tr th:only-of-type {\n",
       "        vertical-align: middle;\n",
       "    }\n",
       "\n",
       "    .dataframe tbody tr th {\n",
       "        vertical-align: top;\n",
       "    }\n",
       "\n",
       "    .dataframe thead th {\n",
       "        text-align: right;\n",
       "    }\n",
       "</style>\n",
       "<table border=\"1\" class=\"dataframe\">\n",
       "  <thead>\n",
       "    <tr style=\"text-align: right;\">\n",
       "      <th></th>\n",
       "      <th></th>\n",
       "      <th>text</th>\n",
       "      <th>type</th>\n",
       "      <th>negation</th>\n",
       "      <th>sentence</th>\n",
       "      <th>section</th>\n",
       "      <th>pmid</th>\n",
       "    </tr>\n",
       "    <tr>\n",
       "      <th>pmid</th>\n",
       "      <th>orig_index</th>\n",
       "      <th></th>\n",
       "      <th></th>\n",
       "      <th></th>\n",
       "      <th></th>\n",
       "      <th></th>\n",
       "      <th></th>\n",
       "    </tr>\n",
       "  </thead>\n",
       "  <tbody>\n",
       "    <tr>\n",
       "      <th rowspan=\"4\" valign=\"top\">31981224</th>\n",
       "      <th>0</th>\n",
       "      <td>covid-19</td>\n",
       "      <td>Participant</td>\n",
       "      <td>0</td>\n",
       "      <td>In this review , we provide an update on CoV i...</td>\n",
       "      <td>BACKGROUND</td>\n",
       "      <td>31981224</td>\n",
       "    </tr>\n",
       "    <tr>\n",
       "      <th>1</th>\n",
       "      <td>relevant</td>\n",
       "      <td>Participant</td>\n",
       "      <td>0</td>\n",
       "      <td>In this review , we provide an update on CoV i...</td>\n",
       "      <td>BACKGROUND</td>\n",
       "      <td>31981224</td>\n",
       "    </tr>\n",
       "    <tr>\n",
       "      <th>2</th>\n",
       "      <td>host defense against</td>\n",
       "      <td>Outcome</td>\n",
       "      <td>0</td>\n",
       "      <td>In this review , we provide an update on CoV i...</td>\n",
       "      <td>BACKGROUND</td>\n",
       "      <td>31981224</td>\n",
       "    </tr>\n",
       "    <tr>\n",
       "      <th>3</th>\n",
       "      <td>covid-19</td>\n",
       "      <td>Participant</td>\n",
       "      <td>0</td>\n",
       "      <td>This highlights the importance of immune respo...</td>\n",
       "      <td>CONCLUSIONS</td>\n",
       "      <td>31981224</td>\n",
       "    </tr>\n",
       "    <tr>\n",
       "      <th>31996494</th>\n",
       "      <th>4</th>\n",
       "      <td>covid-19</td>\n",
       "      <td>Participant</td>\n",
       "      <td>0</td>\n",
       "      <td>As of January 22 , 2020 , a total of 571 cases...</td>\n",
       "      <td>TITLE</td>\n",
       "      <td>31996494</td>\n",
       "    </tr>\n",
       "    <tr>\n",
       "      <th rowspan=\"3\" valign=\"top\">32013309</th>\n",
       "      <th>5</th>\n",
       "      <td>inflammation</td>\n",
       "      <td>Outcome</td>\n",
       "      <td>0</td>\n",
       "      <td>Here , we propose for the first time that infl...</td>\n",
       "      <td>RESULTS</td>\n",
       "      <td>32013309</td>\n",
       "    </tr>\n",
       "    <tr>\n",
       "      <th>6</th>\n",
       "      <td>covid-19</td>\n",
       "      <td>Participant</td>\n",
       "      <td>0</td>\n",
       "      <td>Here , we propose for the first time that infl...</td>\n",
       "      <td>RESULTS</td>\n",
       "      <td>32013309</td>\n",
       "    </tr>\n",
       "    <tr>\n",
       "      <th>7</th>\n",
       "      <td>inhibited</td>\n",
       "      <td>modifier</td>\n",
       "      <td>0</td>\n",
       "      <td>Here , we propose for the first time that infl...</td>\n",
       "      <td>RESULTS</td>\n",
       "      <td>32013309</td>\n",
       "    </tr>\n",
       "    <tr>\n",
       "      <th rowspan=\"2\" valign=\"top\">32015560</th>\n",
       "      <th>8</th>\n",
       "      <td>accelerate</td>\n",
       "      <td>modifier</td>\n",
       "      <td>0</td>\n",
       "      <td>accelerate its control .</td>\n",
       "      <td>BACKGROUND</td>\n",
       "      <td>32015560</td>\n",
       "    </tr>\n",
       "    <tr>\n",
       "      <th>9</th>\n",
       "      <td>control</td>\n",
       "      <td>Outcome</td>\n",
       "      <td>0</td>\n",
       "      <td>accelerate its control .</td>\n",
       "      <td>BACKGROUND</td>\n",
       "      <td>32015560</td>\n",
       "    </tr>\n",
       "  </tbody>\n",
       "</table>\n",
       "</div>"
      ],
      "text/plain": [
       "                                     text         type  negation  \\\n",
       "pmid     orig_index                                                \n",
       "31981224 0                       covid-19  Participant         0   \n",
       "         1                       relevant  Participant         0   \n",
       "         2           host defense against      Outcome         0   \n",
       "         3                       covid-19  Participant         0   \n",
       "31996494 4                       covid-19  Participant         0   \n",
       "32013309 5                   inflammation      Outcome         0   \n",
       "         6                       covid-19  Participant         0   \n",
       "         7                      inhibited     modifier         0   \n",
       "32015560 8                     accelerate     modifier         0   \n",
       "         9                        control      Outcome         0   \n",
       "\n",
       "                                                              sentence  \\\n",
       "pmid     orig_index                                                      \n",
       "31981224 0           In this review , we provide an update on CoV i...   \n",
       "         1           In this review , we provide an update on CoV i...   \n",
       "         2           In this review , we provide an update on CoV i...   \n",
       "         3           This highlights the importance of immune respo...   \n",
       "31996494 4           As of January 22 , 2020 , a total of 571 cases...   \n",
       "32013309 5           Here , we propose for the first time that infl...   \n",
       "         6           Here , we propose for the first time that infl...   \n",
       "         7           Here , we propose for the first time that infl...   \n",
       "32015560 8                                    accelerate its control .   \n",
       "         9                                    accelerate its control .   \n",
       "\n",
       "                         section      pmid  \n",
       "pmid     orig_index                         \n",
       "31981224 0            BACKGROUND  31981224  \n",
       "         1            BACKGROUND  31981224  \n",
       "         2            BACKGROUND  31981224  \n",
       "         3           CONCLUSIONS  31981224  \n",
       "31996494 4                 TITLE  31996494  \n",
       "32013309 5               RESULTS  32013309  \n",
       "         6               RESULTS  32013309  \n",
       "         7               RESULTS  32013309  \n",
       "32015560 8            BACKGROUND  32015560  \n",
       "         9            BACKGROUND  32015560  "
      ]
     },
     "execution_count": 4,
     "metadata": {},
     "output_type": "execute_result"
    }
   ],
   "source": [
    "pmid_ent_df.head(10)"
   ]
  },
  {
   "cell_type": "code",
   "execution_count": 8,
   "metadata": {},
   "outputs": [
    {
     "name": "stdout",
     "output_type": "stream",
     "text": [
      "{'measure', 'modifier', 'Participant', 'Outcome', 'Intervention'}\n",
      "{'OBJECTIVE', 'METHODS', 'BACKGROUND', 'ERROR', 'CONCLUSIONS', 'RESULTS', 'TITLE'}\n"
     ]
    }
   ],
   "source": [
    "print(set(pmid_ent_df['type']))\n",
    "print(set(pmid_ent_df['section']))"
   ]
  },
  {
   "cell_type": "code",
   "execution_count": 23,
   "metadata": {},
   "outputs": [
    {
     "data": {
      "text/plain": [
       "6002"
      ]
     },
     "execution_count": 23,
     "metadata": {},
     "output_type": "execute_result"
    }
   ],
   "source": [
    "all_pmids = list(set(ent_df.pmid))\n",
    "num_total_pmid = len(all_pmids)\n",
    "num_total_pmid"
   ]
  },
  {
   "cell_type": "code",
   "execution_count": 19,
   "metadata": {},
   "outputs": [
    {
     "data": {
      "text/html": [
       "<div>\n",
       "<style scoped>\n",
       "    .dataframe tbody tr th:only-of-type {\n",
       "        vertical-align: middle;\n",
       "    }\n",
       "\n",
       "    .dataframe tbody tr th {\n",
       "        vertical-align: top;\n",
       "    }\n",
       "\n",
       "    .dataframe thead th {\n",
       "        text-align: right;\n",
       "    }\n",
       "</style>\n",
       "<table border=\"1\" class=\"dataframe\">\n",
       "  <thead>\n",
       "    <tr style=\"text-align: right;\">\n",
       "      <th></th>\n",
       "      <th></th>\n",
       "      <th>text</th>\n",
       "      <th>type</th>\n",
       "      <th>negation</th>\n",
       "      <th>sentence</th>\n",
       "      <th>section</th>\n",
       "      <th>pmid</th>\n",
       "    </tr>\n",
       "    <tr>\n",
       "      <th>pmid</th>\n",
       "      <th>orig_index</th>\n",
       "      <th></th>\n",
       "      <th></th>\n",
       "      <th></th>\n",
       "      <th></th>\n",
       "      <th></th>\n",
       "      <th></th>\n",
       "    </tr>\n",
       "  </thead>\n",
       "  <tbody>\n",
       "    <tr>\n",
       "      <th rowspan=\"5\" valign=\"top\">32075365</th>\n",
       "      <th>312</th>\n",
       "      <td>COVID-19 pneumonia</td>\n",
       "      <td>Participant</td>\n",
       "      <td>0</td>\n",
       "      <td>Here we found that treating the patients diagn...</td>\n",
       "      <td>RESULTS</td>\n",
       "      <td>32075365</td>\n",
       "    </tr>\n",
       "    <tr>\n",
       "      <th>313</th>\n",
       "      <td>hydroxychloroquine</td>\n",
       "      <td>Intervention</td>\n",
       "      <td>0</td>\n",
       "      <td>Here we found that treating the patients diagn...</td>\n",
       "      <td>RESULTS</td>\n",
       "      <td>32075365</td>\n",
       "    </tr>\n",
       "    <tr>\n",
       "      <th>314</th>\n",
       "      <td>improve</td>\n",
       "      <td>modifier</td>\n",
       "      <td>0</td>\n",
       "      <td>Here we found that treating the patients diagn...</td>\n",
       "      <td>RESULTS</td>\n",
       "      <td>32075365</td>\n",
       "    </tr>\n",
       "    <tr>\n",
       "      <th>315</th>\n",
       "      <td>success rate of treatment</td>\n",
       "      <td>Outcome</td>\n",
       "      <td>0</td>\n",
       "      <td>Here we found that treating the patients diagn...</td>\n",
       "      <td>RESULTS</td>\n",
       "      <td>32075365</td>\n",
       "    </tr>\n",
       "    <tr>\n",
       "      <th>316</th>\n",
       "      <td>shorten</td>\n",
       "      <td>modifier</td>\n",
       "      <td>0</td>\n",
       "      <td>Here we found that treating the patients diagn...</td>\n",
       "      <td>RESULTS</td>\n",
       "      <td>32075365</td>\n",
       "    </tr>\n",
       "    <tr>\n",
       "      <th>...</th>\n",
       "      <th>...</th>\n",
       "      <td>...</td>\n",
       "      <td>...</td>\n",
       "      <td>...</td>\n",
       "      <td>...</td>\n",
       "      <td>...</td>\n",
       "      <td>...</td>\n",
       "    </tr>\n",
       "    <tr>\n",
       "      <th rowspan=\"5\" valign=\"top\">32777550</th>\n",
       "      <th>121579</th>\n",
       "      <td>cough</td>\n",
       "      <td>Outcome</td>\n",
       "      <td>0</td>\n",
       "      <td>The most common symptoms were fever ( 48.3 % )...</td>\n",
       "      <td>RESULTS</td>\n",
       "      <td>32777550</td>\n",
       "    </tr>\n",
       "    <tr>\n",
       "      <th>121580</th>\n",
       "      <td>46.5 %</td>\n",
       "      <td>measure</td>\n",
       "      <td>0</td>\n",
       "      <td>The most common symptoms were fever ( 48.3 % )...</td>\n",
       "      <td>RESULTS</td>\n",
       "      <td>32777550</td>\n",
       "    </tr>\n",
       "    <tr>\n",
       "      <th>121581</th>\n",
       "      <td>diarrhea</td>\n",
       "      <td>Outcome</td>\n",
       "      <td>0</td>\n",
       "      <td>The most common symptoms were fever ( 48.3 % )...</td>\n",
       "      <td>RESULTS</td>\n",
       "      <td>32777550</td>\n",
       "    </tr>\n",
       "    <tr>\n",
       "      <th>121582</th>\n",
       "      <td>20.5 %</td>\n",
       "      <td>measure</td>\n",
       "      <td>0</td>\n",
       "      <td>The most common symptoms were fever ( 48.3 % )...</td>\n",
       "      <td>RESULTS</td>\n",
       "      <td>32777550</td>\n",
       "    </tr>\n",
       "    <tr>\n",
       "      <th>121583</th>\n",
       "      <td>covid-19</td>\n",
       "      <td>Outcome</td>\n",
       "      <td>0</td>\n",
       "      <td>The most common symptoms were fever ( 48.3 % )...</td>\n",
       "      <td>RESULTS</td>\n",
       "      <td>32777550</td>\n",
       "    </tr>\n",
       "  </tbody>\n",
       "</table>\n",
       "<p>8940 rows × 6 columns</p>\n",
       "</div>"
      ],
      "text/plain": [
       "                                          text          type  negation  \\\n",
       "pmid     orig_index                                                      \n",
       "32075365 312                COVID-19 pneumonia   Participant         0   \n",
       "         313                hydroxychloroquine  Intervention         0   \n",
       "         314                           improve      modifier         0   \n",
       "         315         success rate of treatment       Outcome         0   \n",
       "         316                           shorten      modifier         0   \n",
       "...                                        ...           ...       ...   \n",
       "32777550 121579                          cough       Outcome         0   \n",
       "         121580                         46.5 %       measure         0   \n",
       "         121581                       diarrhea       Outcome         0   \n",
       "         121582                         20.5 %       measure         0   \n",
       "         121583                       covid-19       Outcome         0   \n",
       "\n",
       "                                                              sentence  \\\n",
       "pmid     orig_index                                                      \n",
       "32075365 312         Here we found that treating the patients diagn...   \n",
       "         313         Here we found that treating the patients diagn...   \n",
       "         314         Here we found that treating the patients diagn...   \n",
       "         315         Here we found that treating the patients diagn...   \n",
       "         316         Here we found that treating the patients diagn...   \n",
       "...                                                                ...   \n",
       "32777550 121579      The most common symptoms were fever ( 48.3 % )...   \n",
       "         121580      The most common symptoms were fever ( 48.3 % )...   \n",
       "         121581      The most common symptoms were fever ( 48.3 % )...   \n",
       "         121582      The most common symptoms were fever ( 48.3 % )...   \n",
       "         121583      The most common symptoms were fever ( 48.3 % )...   \n",
       "\n",
       "                     section      pmid  \n",
       "pmid     orig_index                     \n",
       "32075365 312         RESULTS  32075365  \n",
       "         313         RESULTS  32075365  \n",
       "         314         RESULTS  32075365  \n",
       "         315         RESULTS  32075365  \n",
       "         316         RESULTS  32075365  \n",
       "...                      ...       ...  \n",
       "32777550 121579      RESULTS  32777550  \n",
       "         121580      RESULTS  32777550  \n",
       "         121581      RESULTS  32777550  \n",
       "         121582      RESULTS  32777550  \n",
       "         121583      RESULTS  32777550  \n",
       "\n",
       "[8940 rows x 6 columns]"
      ]
     },
     "execution_count": 19,
     "metadata": {},
     "output_type": "execute_result"
    }
   ],
   "source": [
    "#get all pmids with hcq as intervention: text = hydroxychloroquine or HCQ or hcq\n",
    "hcq_pmids = ent_df[(ent_df.text.isin([\"hydroxychloroquine\", 'HCQ', 'hcq'])) & (ent_df.type == \"Intervention\")].pmid.unique()\n",
    "\n",
    "#get entities with hcq pmids\n",
    "hcq_ent_df = pmid_ent_df.loc[hcq_pmids]\n",
    "hcq_ent_df"
   ]
  },
  {
   "cell_type": "code",
   "execution_count": 20,
   "metadata": {},
   "outputs": [],
   "source": [
    "diab_df = ent_df[(ent_df.text == \"diabetes\") & (ent_df.type == \"Participant\")]\n",
    "diab_pmids = diab_df.pmid.unique()"
   ]
  },
  {
   "cell_type": "code",
   "execution_count": 21,
   "metadata": {},
   "outputs": [],
   "source": [
    "preg_df = ent_df[(ent_df.text == \"pregnant\") & (ent_df.type == \"Participant\")]\n",
    "preg_pmids = preg_df.pmid.unique()"
   ]
  },
  {
   "cell_type": "code",
   "execution_count": 22,
   "metadata": {},
   "outputs": [
    {
     "name": "stdout",
     "output_type": "stream",
     "text": [
      "6002\n",
      "331\n",
      "284\n",
      "21\n"
     ]
    }
   ],
   "source": [
    "print(num_total_pmid)\n",
    "print(len(hcq_pmids))\n",
    "print(len(diab_pmids))\n",
    "print(len(preg_pmids))"
   ]
  },
  {
   "cell_type": "code",
   "execution_count": 28,
   "metadata": {},
   "outputs": [
    {
     "name": "stdout",
     "output_type": "stream",
     "text": [
      "13\n",
      "2\n"
     ]
    }
   ],
   "source": [
    "hcq1_diab1_pmid = list(set(hcq_pmids)&set(diab_pmids))\n",
    "hcq1_preg1_pmid = list(set(hcq_pmids)&set(preg_pmids))\n",
    "print(len(hcq_diab_pmid))\n",
    "print(len(hcq_preg_pmid))"
   ]
  },
  {
   "cell_type": "code",
   "execution_count": 30,
   "metadata": {},
   "outputs": [
    {
     "name": "stdout",
     "output_type": "stream",
     "text": [
      "271\n",
      "318\n",
      "5400\n"
     ]
    }
   ],
   "source": [
    "hcq0_diab1_pmid = list(set(diab_pmids)-set(hcq_pmids))\n",
    "hcq1_diab0_pmid = list(set(hcq_pmids)-set(diab_pmids))\n",
    "hcq0_diab0_pmid = list(set(all_pmids)-set(hcq_pmids)-set(diab_pmids))\n",
    "print(len(hcq0_diab1_pmid))\n",
    "print(len(hcq1_diab0_pmid))\n",
    "print(len(hcq0_diab0_pmid))"
   ]
  },
  {
   "cell_type": "code",
   "execution_count": 33,
   "metadata": {},
   "outputs": [
    {
     "data": {
      "text/plain": [
       "0.5647274525647445"
      ]
     },
     "execution_count": 33,
     "metadata": {},
     "output_type": "execute_result"
    }
   ],
   "source": [
    "# when p is small (eg. <= 0.05), could reject the null hypothesis \n",
    "# -> reject the hypothesis that the two categories are independent -> agree that they are dependent\n",
    "# if p is large, could not reject H0 -> we could not say that the 2 catergories are dependent\n",
    "obs = np.array([[len(hcq1_diab1_pmid),len(hcq0_diab1_pmid)], [len(hcq1_diab0_pmid), len(hcq0_diab0_pmid)]])\n",
    "chi2, p, dof, ex = chi2_contingency(obs)\n",
    "p"
   ]
  },
  {
   "cell_type": "code",
   "execution_count": 35,
   "metadata": {},
   "outputs": [],
   "source": [
    "p_count = Counter(ent_df[ent_df.type == \"Participant\"].text.values)\n",
    "i_count = Counter(ent_df[ent_df.type == \"Intervention\"].text.values)\n",
    "o_count = Counter(ent_df[ent_df.type == \"Outcome\"].text.values)"
   ]
  },
  {
   "cell_type": "code",
   "execution_count": 37,
   "metadata": {},
   "outputs": [
    {
     "data": {
      "text/plain": [
       "[('dead', 1689),\n",
       " ('covid-19', 1064),\n",
       " ('severe', 780),\n",
       " ('outcome', 358),\n",
       " ('severe covid-19', 341),\n",
       " ('safety', 246),\n",
       " ('D-dimer', 211),\n",
       " ('fever', 202),\n",
       " ('efficacy', 202),\n",
       " ('symptom', 199),\n",
       " ('comorbidity', 170),\n",
       " ('prognosi', 167),\n",
       " ('mortality rate', 152),\n",
       " ('IL-6', 152),\n",
       " ('cough', 144),\n",
       " ('clinical outcomes', 128),\n",
       " ('C-reactive protein', 128),\n",
       " ('mechanical ventilation', 114),\n",
       " ('disease severity', 107),\n",
       " ('complication', 104)]"
      ]
     },
     "execution_count": 37,
     "metadata": {},
     "output_type": "execute_result"
    }
   ],
   "source": [
    "o_count.most_common(20)"
   ]
  },
  {
   "cell_type": "code",
   "execution_count": 47,
   "metadata": {},
   "outputs": [
    {
     "name": "stdout",
     "output_type": "stream",
     "text": [
      "2\n",
      "25\n",
      "11\n",
      "143\n"
     ]
    },
    {
     "data": {
      "text/plain": [
       "0.7226450040528525"
      ]
     },
     "execution_count": 47,
     "metadata": {},
     "output_type": "execute_result"
    }
   ],
   "source": [
    "# among all articles that mentioned fever as Outcome\n",
    "# Diabetes (P) vs HCQ (I) with fever(O)\n",
    "# p value is large, could not reject H0\n",
    "k_outcome_df = ent_df[(ent_df.text == \"fever\") & (ent_df.type == \"Outcome\")]\n",
    "k_pmids = k_outcome_df.pmid.unique()\n",
    "\n",
    "k_hcq_pmids = list(set(hcq_pmids)&set(k_pmids))\n",
    "k_diab_pmids = list(set(diab_pmids)&set(k_pmids))\n",
    "\n",
    "k_hcq1_diab1_pmid = list(set(k_hcq_pmids)&set(k_diab_pmids))\n",
    "k_hcq0_diab1_pmid = list(set(k_diab_pmids)-set(k_hcq_pmids))\n",
    "k_hcq1_diab0_pmid = list(set(k_hcq_pmids)-set(k_diab_pmids))\n",
    "k_hcq0_diab0_pmid = list(set(k_pmids)-set(k_hcq_pmids)-set(k_diab_pmids))\n",
    "\n",
    "print(len(k_hcq1_diab1_pmid))\n",
    "print(len(k_hcq0_diab1_pmid))\n",
    "print(len(k_hcq1_diab0_pmid))\n",
    "print(len(k_hcq0_diab0_pmid))\n",
    "\n",
    "obs = np.array([[len(k_hcq1_diab1_pmid),len(k_hcq0_diab1_pmid)], [len(k_hcq1_diab0_pmid), len(k_hcq0_diab0_pmid)]])\n",
    "chi2, p, dof, ex = chi2_contingency(obs)\n",
    "p"
   ]
  },
  {
   "cell_type": "code",
   "execution_count": 44,
   "metadata": {},
   "outputs": [
    {
     "name": "stdout",
     "output_type": "stream",
     "text": [
      "18\n",
      "196\n",
      "313\n",
      "5475\n"
     ]
    },
    {
     "data": {
      "text/plain": [
       "0.08226578339058774"
      ]
     },
     "execution_count": 44,
     "metadata": {},
     "output_type": "execute_result"
    }
   ],
   "source": [
    "# female(P) vs HCQ (I)\n",
    "# p-value < 0.1, could reject H0\n",
    "# With sigificance level 10%, we can say that \"female\" and \"HCQ\" are not independent among all the articles on covid-19.\n",
    "female_df = ent_df[(ent_df.text == \"female\") & (ent_df.type == \"Participant\")]\n",
    "female_pmids = female_df.pmid.unique()\n",
    "\n",
    "hcq1_female1_pmid = list(set(hcq_pmids)&set(female_pmids))\n",
    "hcq0_female1_pmid = list(set(female_pmids)-set(hcq_pmids))\n",
    "hcq1_female0_pmid = list(set(hcq_pmids)-set(female_pmids))\n",
    "hcq0_female0_pmid = list(set(all_pmids)-set(hcq_pmids)-set(female_pmids))\n",
    "\n",
    "print(len(hcq1_female1_pmid))\n",
    "print(len(hcq0_female1_pmid))\n",
    "print(len(hcq1_female0_pmid))\n",
    "print(len(hcq0_female0_pmid))\n",
    "\n",
    "obs = np.array([[len(hcq1_female1_pmid),len(hcq0_female1_pmid)], [len(hcq1_female0_pmid), len(hcq0_female0_pmid)]])\n",
    "chi2, p, dof, ex = chi2_contingency(obs)\n",
    "p"
   ]
  },
  {
   "cell_type": "markdown",
   "metadata": {},
   "source": [
    "- It might not help to limit the scope of the articles with certain outcome if we want to reach the conclusion that 2 terms are not independent to each other.\n",
    "- It seems like that the indenpendence test should serve as a tool to test the \"hypothesis\" only after we have one -> to prove that if the independence hypothesis is correct. We still need to search for meaningful pairs from EDA (eg. the popular edges) before testing."
   ]
  }
 ],
 "metadata": {
  "kernelspec": {
   "display_name": "Python 3",
   "language": "python",
   "name": "python3"
  },
  "language_info": {
   "codemirror_mode": {
    "name": "ipython",
    "version": 3
   },
   "file_extension": ".py",
   "mimetype": "text/x-python",
   "name": "python",
   "nbconvert_exporter": "python",
   "pygments_lexer": "ipython3",
   "version": "3.7.0"
  }
 },
 "nbformat": 4,
 "nbformat_minor": 2
}
