{
 "cells": [
  {
   "cell_type": "code",
   "execution_count": 2,
   "metadata": {},
   "outputs": [],
   "source": [
    "import nltk\n",
    "import spacy\n",
    "import pandas as pd\n",
    "from tqdm import tqdm\n",
    "import os\n",
    "import nltk\n",
    "import numpy as np\n"
   ]
  },
  {
   "cell_type": "markdown",
   "metadata": {},
   "source": [
    "# Checking for sentence classification"
   ]
  },
  {
   "cell_type": "code",
   "execution_count": 50,
   "metadata": {},
   "outputs": [
    {
     "name": "stderr",
     "output_type": "stream",
     "text": [
      "dirs: 100%|████████████████████████████████████████████████████████████████████████| 6459/6459 [01:44<00:00, 61.84it/s]"
     ]
    },
    {
     "name": "stdout",
     "output_type": "stream",
     "text": [
      "Error lol\n",
      "exceptionlist.txt\n",
      "Error lol\n",
      "label2id.pkl\n",
      "Error lol\n",
      "predict.tf_record\n"
     ]
    },
    {
     "name": "stderr",
     "output_type": "stream",
     "text": [
      "\n"
     ]
    }
   ],
   "source": [
    "folder = \"../LitCovid_Treatment_json/\"\n",
    "\n",
    "dirs = os.listdir(folder)\n",
    "\n",
    "for file in tqdm(dirs, desc = \"dirs\"):\n",
    "    try: \n",
    "        if file not in [\"exceptionlist.txt\", \"label2id.pkl\", \"predict.tf_record\"]:\n",
    "            file_path = os.path.join(folder, file)\n",
    "            temp = pd.read_json(file_path)\n",
    "            sections = [temp.sentences.values[i][\"Section\"] for i in range(temp.shape[0])]\n",
    "            if any(s != \"METHODS\" for s in sections):\n",
    "                print(file)\n",
    "                print(sections)\n",
    "    except:\n",
    "        print(\"Error lol\")\n",
    "        print(file)"
   ]
  },
  {
   "cell_type": "markdown",
   "metadata": {},
   "source": [
    "# Get data"
   ]
  },
  {
   "cell_type": "code",
   "execution_count": 3,
   "metadata": {
    "scrolled": true
   },
   "outputs": [
    {
     "name": "stderr",
     "output_type": "stream",
     "text": [
      "dirs: 100%|████████████████████████████████████████████████████████████████████████| 6459/6459 [02:53<00:00, 37.26it/s]\n"
     ]
    }
   ],
   "source": [
    "folder = \"../LitCovid_Treatment_json/\"\n",
    "dirs = os.listdir(folder)\n",
    "pmids = []\n",
    "entities = []\n",
    "\n",
    "for file in tqdm(dirs, desc = \"dirs\"):\n",
    "    if file not in [\"exceptionlist.txt\", \"label2id.pkl\", \"predict.tf_record\"]:\n",
    "        \n",
    "        #get filepath and read in data\n",
    "        file_path = os.path.join(folder, file)\n",
    "        temp = pd.read_json(file_path)\n",
    "        pmid = file[:-5]\n",
    "        \n",
    "        for i in range(temp.shape[0]):\n",
    "            \n",
    "            #get entities sentence by sentence\n",
    "            ents_dict = temp.sentences.values[i].get(\"entities\")\n",
    "            if len(ents_dict.keys()) > 0:\n",
    "                entities += [(ents_dict[k][\"text\"], ents_dict[k][\"class\"], ents_dict[k][\"negation\"], pmid) for k in ents_dict.keys()]\n",
    "\n"
   ]
  },
  {
   "cell_type": "code",
   "execution_count": 4,
   "metadata": {
    "scrolled": true
   },
   "outputs": [],
   "source": [
    "ent_df = pd.DataFrame(entities, columns=[\"text\", \"type\", \"negation\", \"pmid\"])\n",
    "ent_df.to_csv(\"LitCovid_treatment_ents.csv\")\n"
   ]
  },
  {
   "cell_type": "markdown",
   "metadata": {},
   "source": [
    "# Building weighted graph"
   ]
  },
  {
   "cell_type": "code",
   "execution_count": 3,
   "metadata": {},
   "outputs": [
    {
     "name": "stderr",
     "output_type": "stream",
     "text": [
      "100%|██████████████████████████████████████████████████████████████████████████| 125062/125062 [49:55<00:00, 41.75it/s]\n"
     ]
    }
   ],
   "source": [
    "from collections import Counter\n",
    "import itertools as it\n",
    "\n",
    "# get data and group\n",
    "ent_df = pd.read_csv(\"LitCovid_treatment_ents.csv\")\n",
    "g = ent_df.groupby([\"pmid\", \"type\"])\n",
    "\n",
    "#initialize variables\n",
    "groups = list(g.groups)\n",
    "types = [\"Participant\", \"Outcome\", \"Intervention\"]\n",
    "edge_weight = Counter()\n",
    "nodes = []\n",
    "\n",
    "for p in tqdm(ent_df.pmid.values):\n",
    "    temp = []\n",
    "    for tup in list(it.product([p], types)):\n",
    "        if tup in groups:\n",
    "            #get pmid entities\n",
    "            grp = g.get_group(tup)\n",
    "            \n",
    "            #format appropriately\n",
    "            temp_nodes = [\"{} ({})\".format(t, tup[1][0]) for t in grp.text.values]\n",
    "            temp.append(temp_nodes)\n",
    "            nodes += temp_nodes\n",
    "        else:\n",
    "            temp.append([])\n",
    "            \n",
    "    #get edges\n",
    "    products = [list(it.product(temp[0], temp[1])), list(it.product(temp[0], temp[2])), list(it.product(temp[1], temp[2]))]\n",
    "    \n",
    "    #add edges to adj list\n",
    "    for prod in products:\n",
    "        if prod != []:\n",
    "            edge_weight.update(prod)"
   ]
  },
  {
   "cell_type": "code",
   "execution_count": null,
   "metadata": {},
   "outputs": [],
   "source": [
    "import networkx as nx\n",
    "#same intervention/population -> different outcomes, etc.\n",
    "#categorize segments by intervention/population\n",
    "#independence amongst categories\n",
    "#what are treatments with same outcome\n",
    "#what are possible outcomes\n",
    "#build graph from adj list\n",
    "G = nx.Graph()\n",
    "for item in edge_weight.items():\n",
    "    G.add_edge(item[0][0], item[0][1], weight=item[1])\n",
    "\n",
    "#only show edge if enough hits\n",
    "cutoff = sorted(list(edge_weight.values()))[-50]\n",
    "elarge = [(u, v) for (u, v, d) in G.edges(data=True) if d[\"weight\"] >= cutoff]\n",
    "# esmall = [(u, v) for (u, v, d) in G.edges(data=True) if d[\"weight\"] <= 0.5]\n",
    "\n",
    "pos = nx.spring_layout(G)  # positions for all nodes\n",
    "\n",
    "#draw nodes\n",
    "nx.draw_networkx_nodes(G, pos, node_size=700)\n",
    "\n",
    "#draw edges\n",
    "nx.draw_networkx_edges(G, pos, edgelist=elarge, width=6)\n",
    "# nx.draw_networkx_edges(\n",
    "#     G, pos, edgelist=esmall, width=6, alpha=0.5, edge_color=\"b\", style=\"dashed\"\n",
    "# )\n",
    "\n",
    "#draw labels\n",
    "nx.draw_networkx_labels(G, pos, font_size=20, font_family=\"sans-serif\")\n",
    "\n",
    "plt.axis(\"off\")\n",
    "plt.show()"
   ]
  },
  {
   "cell_type": "markdown",
   "metadata": {},
   "source": [
    "# Frequencies of PICO element text"
   ]
  },
  {
   "cell_type": "code",
   "execution_count": 126,
   "metadata": {},
   "outputs": [],
   "source": [
    "from collections import Counter\n",
    "p_count = Counter(ent_df[ent_df.type == \"Participant\"].text.values)\n",
    "i_count = Counter(ent_df[ent_df.type == \"Intervention\"].text.values)\n",
    "o_count = Counter(ent_df[ent_df.type == \"Outcome\"].text.values)"
   ]
  },
  {
   "cell_type": "code",
   "execution_count": 129,
   "metadata": {
    "scrolled": true
   },
   "outputs": [
    {
     "data": {
      "text/plain": [
       "[('COVID-19', 3371),\n",
       " ('age', 637),\n",
       " ('SARS-CoV-2', 398),\n",
       " ('SARS-CoV-2 infection', 366),\n",
       " ('diabetes', 327),\n",
       " ('severe COVID-19', 317),\n",
       " ('COVID-19 infection', 267),\n",
       " ('hypertension', 239),\n",
       " ('children', 208),\n",
       " ('hospitalized', 196),\n",
       " ('male', 186),\n",
       " ('critically ill', 183),\n",
       " ('cancer', 169),\n",
       " ('COVID-19 pneumonia', 167),\n",
       " ('severe', 166),\n",
       " ('aged', 161),\n",
       " ('comorbidities', 160),\n",
       " ('men', 159),\n",
       " ('coronavirus disease 2019 ( COVID-19 )', 157),\n",
       " ('women', 149),\n",
       " ('elderly', 132),\n",
       " ('males', 131),\n",
       " ('obesity', 130),\n",
       " ('.', 117),\n",
       " ('adults', 113),\n",
       " ('older', 104),\n",
       " ('pregnant women', 94),\n",
       " ('ICU', 87),\n",
       " ('median age', 85),\n",
       " ('healthy', 81),\n",
       " ('pneumonia', 78),\n",
       " ('Covid-19', 78),\n",
       " ('adult', 75),\n",
       " ('fever', 73),\n",
       " ('female', 71),\n",
       " ('ARDS', 70),\n",
       " ('laboratory-confirmed COVID-19', 69),\n",
       " ('females', 68),\n",
       " (',', 67),\n",
       " ('diabetes mellitus', 65),\n",
       " ('hospitalized COVID-19', 61),\n",
       " ('mean age', 61),\n",
       " ('coronavirus', 55),\n",
       " ('mechanical ventilation', 55),\n",
       " ('older age', 53),\n",
       " ('coronavirus disease 2019', 51),\n",
       " ('severe disease', 51),\n",
       " ('SARS', 50),\n",
       " ('critical', 47),\n",
       " ('severe acute respiratory syndrome coronavirus 2 ( SARS-CoV-2 )', 46),\n",
       " ('male sex', 45),\n",
       " ('and', 44),\n",
       " ('influenza', 44),\n",
       " ('mild', 43),\n",
       " ('pediatric', 43),\n",
       " ('infected', 42),\n",
       " ('non-survivors', 41),\n",
       " ('Patients', 41),\n",
       " ('cardiovascular disease', 40),\n",
       " ('(', 39),\n",
       " ('neonates', 39),\n",
       " ('gender', 39),\n",
       " ('COVID-19 disease', 39),\n",
       " ('old', 38),\n",
       " ('coronavirus disease', 38),\n",
       " ('non-ICU', 38),\n",
       " ('COPD', 38),\n",
       " ('infection', 37),\n",
       " ('survivors', 35),\n",
       " ('pregnant', 35),\n",
       " ('severe cases', 34),\n",
       " ('young', 34),\n",
       " ('obese', 34),\n",
       " ('asthma', 34),\n",
       " ('older adults', 33),\n",
       " ('SARS-CoV', 32),\n",
       " ('critically ill COVID-19', 32),\n",
       " ('deceased', 31),\n",
       " ('stroke', 31),\n",
       " ('BMI', 31),\n",
       " ('critical illness', 30),\n",
       " ('median', 30),\n",
       " ('kidney transplant', 30),\n",
       " ('smoking', 30),\n",
       " ('younger', 30),\n",
       " ('inpatients', 30),\n",
       " ('severely ill', 30),\n",
       " ('sepsis', 30),\n",
       " ('COVID-19 positive', 29),\n",
       " ('severe COVID-19 pneumonia', 29),\n",
       " ('with', 29),\n",
       " ('lung cancer', 28),\n",
       " ('viral infection', 28),\n",
       " ('severe pneumonia', 27),\n",
       " ('MERS', 27),\n",
       " ('died', 27),\n",
       " ('coronaviruses', 27),\n",
       " ('patients', 27),\n",
       " ('comorbidity', 26),\n",
       " ('diabetic', 26)]"
      ]
     },
     "execution_count": 129,
     "metadata": {},
     "output_type": "execute_result"
    }
   ],
   "source": [
    "p_count.most_common(100)"
   ]
  }
 ],
 "metadata": {
  "kernelspec": {
   "display_name": "Python 3",
   "language": "python",
   "name": "python3"
  }
 },
 "nbformat": 4,
 "nbformat_minor": 2
}
