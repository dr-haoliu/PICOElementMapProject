{
 "cells": [
  {
   "cell_type": "markdown",
   "metadata": {},
   "source": [
    "## Meeting 10/15\n",
    "* parse sent-classification output and match subsection titles to json\n",
    "* build synonym sets to group PICO elements\n",
    "* look at graph output\n",
    "* consider studies with same outcome (e.g. ICU admission) and consider separate entities\n",
    "* statistical tests: chi square independence/homogeneity tests\n",
    "* add meeting notes to github"
   ]
  },
  {
   "cell_type": "code",
   "execution_count": 11,
   "metadata": {
    "scrolled": false
   },
   "outputs": [
    {
     "data": {
      "text/plain": [
       "[('COVID-19', 3371),\n",
       " ('age', 637),\n",
       " ('SARS-CoV-2', 398),\n",
       " ('SARS-CoV-2 infection', 366),\n",
       " ('diabetes', 327),\n",
       " ('severe COVID-19', 317),\n",
       " ('COVID-19 infection', 267),\n",
       " ('hypertension', 239),\n",
       " ('children', 208),\n",
       " ('hospitalized', 196),\n",
       " ('male', 186),\n",
       " ('critically ill', 183),\n",
       " ('cancer', 169),\n",
       " ('COVID-19 pneumonia', 167),\n",
       " ('severe', 166),\n",
       " ('aged', 161),\n",
       " ('comorbidities', 160),\n",
       " ('men', 159),\n",
       " ('coronavirus disease 2019 ( COVID-19 )', 157),\n",
       " ('women', 149),\n",
       " ('elderly', 132),\n",
       " ('males', 131),\n",
       " ('obesity', 130),\n",
       " ('.', 117),\n",
       " ('adults', 113),\n",
       " ('older', 104),\n",
       " ('pregnant women', 94),\n",
       " ('ICU', 87),\n",
       " ('median age', 85),\n",
       " ('healthy', 81),\n",
       " ('pneumonia', 78),\n",
       " ('Covid-19', 78),\n",
       " ('adult', 75),\n",
       " ('fever', 73),\n",
       " ('female', 71),\n",
       " ('ARDS', 70),\n",
       " ('laboratory-confirmed COVID-19', 69),\n",
       " ('females', 68),\n",
       " (',', 67),\n",
       " ('diabetes mellitus', 65),\n",
       " ('hospitalized COVID-19', 61),\n",
       " ('mean age', 61),\n",
       " ('coronavirus', 55),\n",
       " ('mechanical ventilation', 55),\n",
       " ('older age', 53),\n",
       " ('coronavirus disease 2019', 51),\n",
       " ('severe disease', 51),\n",
       " ('SARS', 50),\n",
       " ('critical', 47),\n",
       " ('severe acute respiratory syndrome coronavirus 2 ( SARS-CoV-2 )', 46),\n",
       " ('male sex', 45),\n",
       " ('and', 44),\n",
       " ('influenza', 44),\n",
       " ('mild', 43),\n",
       " ('pediatric', 43),\n",
       " ('infected', 42),\n",
       " ('non-survivors', 41),\n",
       " ('Patients', 41),\n",
       " ('cardiovascular disease', 40),\n",
       " ('(', 39),\n",
       " ('neonates', 39),\n",
       " ('gender', 39),\n",
       " ('COVID-19 disease', 39),\n",
       " ('old', 38),\n",
       " ('coronavirus disease', 38),\n",
       " ('non-ICU', 38),\n",
       " ('COPD', 38),\n",
       " ('infection', 37),\n",
       " ('survivors', 35),\n",
       " ('pregnant', 35),\n",
       " ('severe cases', 34),\n",
       " ('young', 34),\n",
       " ('obese', 34),\n",
       " ('asthma', 34),\n",
       " ('older adults', 33),\n",
       " ('SARS-CoV', 32),\n",
       " ('critically ill COVID-19', 32),\n",
       " ('deceased', 31),\n",
       " ('stroke', 31),\n",
       " ('BMI', 31),\n",
       " ('critical illness', 30),\n",
       " ('median', 30),\n",
       " ('kidney transplant', 30),\n",
       " ('smoking', 30),\n",
       " ('younger', 30),\n",
       " ('inpatients', 30),\n",
       " ('severely ill', 30),\n",
       " ('sepsis', 30),\n",
       " ('COVID-19 positive', 29),\n",
       " ('severe COVID-19 pneumonia', 29),\n",
       " ('with', 29),\n",
       " ('lung cancer', 28),\n",
       " ('viral infection', 28),\n",
       " ('severe pneumonia', 27),\n",
       " ('MERS', 27),\n",
       " ('died', 27),\n",
       " ('coronaviruses', 27),\n",
       " ('patients', 27),\n",
       " ('comorbidity', 26),\n",
       " ('diabetic', 26)]"
      ]
     },
     "execution_count": 11,
     "metadata": {},
     "output_type": "execute_result"
    }
   ],
   "source": [
    "import pandas as pd\n",
    "ent_df = pd.read_csv(\"LitCovid_treatment_ents.csv\")\n",
    "p_count = Counter(ent_df[ent_df.type == \"Participant\"].text.values)\n",
    "i_count = Counter(ent_df[ent_df.type == \"Intervention\"].text.values)\n",
    "o_count = Counter(ent_df[ent_df.type == \"Outcome\"].text.values)\n",
    "p_count.most_common(100)"
   ]
  },
  {
   "cell_type": "code",
   "execution_count": 31,
   "metadata": {},
   "outputs": [
    {
     "data": {
      "text/plain": [
       "[('COVID-19', 1431),\n",
       " ('SARS-CoV-2', 534),\n",
       " ('hydroxychloroquine', 332),\n",
       " ('remdesivir', 236),\n",
       " ('chloroquine', 225),\n",
       " ('tocilizumab', 197),\n",
       " ('control', 192),\n",
       " ('HCQ', 166),\n",
       " ('SARS-CoV', 126),\n",
       " ('ACE2', 110),\n",
       " ('convalescent plasma', 89),\n",
       " ('azithromycin', 79),\n",
       " ('placebo', 77),\n",
       " ('TCZ', 59),\n",
       " ('diabetes', 58),\n",
       " ('ARBs', 57),\n",
       " (',', 57),\n",
       " ('.', 56),\n",
       " ('controls', 54),\n",
       " ('favipiravir', 54),\n",
       " ('SARS-CoV-2 infection', 53),\n",
       " ('and', 51),\n",
       " ('ICU', 50),\n",
       " ('age', 48),\n",
       " ('lopinavir', 47),\n",
       " ('corticosteroids', 47),\n",
       " ('SARS', 45),\n",
       " ('lopinavir-ritonavir', 45),\n",
       " ('MERS-CoV', 44),\n",
       " ('Hydroxychloroquine', 44),\n",
       " ('ECMO', 43),\n",
       " ('(', 41),\n",
       " ('CQ', 41),\n",
       " ('hypertension', 39),\n",
       " ('colchicine', 37),\n",
       " ('intervention', 36),\n",
       " ('two groups', 35),\n",
       " ('obesity', 35),\n",
       " ('standard of care', 35),\n",
       " ('standard care', 34),\n",
       " ('COVID-19 infection', 34),\n",
       " ('severe', 34),\n",
       " ('corticosteroid', 33),\n",
       " ('ritonavir', 33),\n",
       " ('heparin', 33),\n",
       " ('ribavirin', 32),\n",
       " ('ARB', 31),\n",
       " ('Covid-19', 31),\n",
       " ('vaccine', 31),\n",
       " ('vitamin D', 30)]"
      ]
     },
     "execution_count": 31,
     "metadata": {},
     "output_type": "execute_result"
    }
   ],
   "source": [
    "#concept mapping across general entity body\n",
    "#manually define rules to compare/group element\n",
    "#synonym set\n",
    "#select a category with specific outcome; then compare relevant publications\n",
    "#consider separators/descriptors of populaton (e.g. age)\n",
    "#features include ranks, labels etc.\n",
    "i_count.most_common(50)"
   ]
  },
  {
   "cell_type": "code",
   "execution_count": 30,
   "metadata": {},
   "outputs": [
    {
     "data": {
      "text/plain": [
       "(15,)"
      ]
     },
     "execution_count": 30,
     "metadata": {},
     "output_type": "execute_result"
    }
   ],
   "source": [
    "#('ICU admission', 72),\n",
    "#\"delirium\"\n",
    "#lower\n",
    "#comparing the corresponding elements\n",
    "ent_df[ent_df.text == \"delirium\"].pmid.unique().shape"
   ]
  }
 ],
 "metadata": {
  "kernelspec": {
   "display_name": "Python 3",
   "language": "python",
   "name": "python3"
  },
  "language_info": {
   "codemirror_mode": {
    "name": "ipython",
    "version": 3
   },
   "file_extension": ".py",
   "mimetype": "text/x-python",
   "name": "python",
   "nbconvert_exporter": "python",
   "pygments_lexer": "ipython3",
   "version": "3.7.0"
  }
 },
 "nbformat": 4,
 "nbformat_minor": 2
}
